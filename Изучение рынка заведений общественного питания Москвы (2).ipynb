{
 "cells": [
  {
   "cell_type": "markdown",
   "id": "1067aa89",
   "metadata": {},
   "source": [
    "# Изучение рынка заведений общественного питания Москвы\n",
    "\n",
    "## Цель и задачи  \n",
    "\n",
    "**Цель:** Провести исследовательский анализ данных рынка заведений общественного питания Москвы на основе данных из Яндекс карт и Яндекс Бизнес на лето 2022 года.\n",
    "\n",
    "**Задачи:**\n",
    "1. Загрузить данные и познакомиться с их содержимым.\n",
    "2. Провести предобработку данных.\n",
    "3. Провести исследовательский анализ данных:\n",
    "4. Сформулировать выводы по проведённому анализу.\n",
    "\n",
    "\n",
    "## Данные\n",
    "\n",
    "Для анализа поступили данные о рынке заведений общественного питания Москвы. Данные состоят из двух датасетов:\n",
    "\n",
    "- `rest_info.csv` — информация о заведениях общественного питания;\n",
    "- `rest_price.csv` —  информация о среднем чеке в заведениях общественного питания;\n",
    "\n",
    "### Описание датасета `rest_info`\n",
    "\n",
    "- `name` — название заведения;\n",
    "- `address` — адрес заведения;\n",
    "- `district` — административный район, в котором находится заведение, например Центральный административный округ;\n",
    "- `category` — категория заведения, например «кафе», «пиццерия» или «кофейня»;\n",
    "- `hours` — информация о днях и часах работы;\n",
    "- `rating` — рейтинг заведения по оценкам пользователей в Яндекс Картах (высшая оценка — 5.0);\n",
    "- `chain` — число, выраженное 0 или 1, которое показывает, является ли заведение сетевым (для маленьких сетей могут встречаться ошибки):\n",
    "  * 0 — заведение не является сетевым;\n",
    "  * 1 — заведение является сетевым.\n",
    "- `seats` — количество посадочных мест\n",
    "\n",
    "\n",
    "### Описание датасета `rest_price`\n",
    "\n",
    "- `price` — категория цен в заведении, например «средние», «ниже среднего», «выше среднего» и так далее;\n",
    "- `avg_bill` — строка, которая хранит среднюю стоимость заказа в виде диапазона, например:\n",
    "«Средний счёт: 1000–1500 ₽»;\n",
    "«Цена чашки капучино: 130–220 ₽»;\n",
    "«Цена бокала пива: 400–600 ₽».\n",
    "и так далее;\n",
    "- `middle_avg_bill` — число с оценкой среднего чека, которое указано только для значений из столбца avg_bill, начинающихся с подстроки «Средний счёт»:\n",
    "Если в строке указан ценовой диапазон из двух значений, в столбец войдёт медиана этих двух значений.\n",
    "Если в строке указано одно число — цена без диапазона, то в столбец войдёт это число.\n",
    "Если значения нет или оно не начинается с подстроки «Средний счёт», то в столбец ничего не войдёт.\n",
    "- `middle_coffee_cup` — число с оценкой одной чашки капучино, которое указано только для значений из столбца avg_bill, начинающихся с подстроки «Цена одной чашки капучино»:\n",
    "Если в строке указан ценовой диапазон из двух значений, в столбец войдёт медиана этих двух значений.\n",
    "Если в строке указано одно число — цена без диапазона, то в столбец войдёт это число.\n",
    "Если значения нет или оно не начинается с подстроки «Цена одной чашки капучино», то в столбец ничего не войдёт.\n",
    "\n",
    "\n",
    "## Структура проекта\n",
    "\n",
    "1. Загрузка данных и знакомство с ними.\n",
    "2. Предобработка данных.\n",
    "3. Исследовательский анализ данных.\n",
    "4. Итоговые выводы.\n",
    "\n",
    "---"
   ]
  },
  {
   "cell_type": "markdown",
   "id": "074ef5ce",
   "metadata": {},
   "source": [
    "## 1. Загрузка данных и знакомство с ними\n",
    "\n",
    "Начнём с загрузки библиотек и датасетов `rest_info` и `rest_price`. Будем использовать pandas и библиотеки визуализации данных matplotlib и seaborn, а также phik для построения матрицы корреляции. Данные датасетов сохраним в двух переменных: `df` и `df_price`."
   ]
  },
  {
   "cell_type": "code",
   "execution_count": 1,
   "id": "b8446f09",
   "metadata": {},
   "outputs": [
    {
     "name": "stdout",
     "output_type": "stream",
     "text": [
      "Requirement already satisfied: phik in /opt/conda/lib/python3.9/site-packages (0.12.4)\n",
      "Requirement already satisfied: matplotlib>=2.2.3 in /opt/conda/lib/python3.9/site-packages (from phik) (3.3.4)\n",
      "Requirement already satisfied: numpy>=1.18.0 in /opt/conda/lib/python3.9/site-packages (from phik) (1.21.1)\n",
      "Requirement already satisfied: joblib>=0.14.1 in /opt/conda/lib/python3.9/site-packages (from phik) (1.1.0)\n",
      "Requirement already satisfied: pandas>=0.25.1 in /opt/conda/lib/python3.9/site-packages (from phik) (1.2.4)\n",
      "Requirement already satisfied: scipy>=1.5.2 in /opt/conda/lib/python3.9/site-packages (from phik) (1.9.1)\n",
      "Requirement already satisfied: pyparsing!=2.0.4,!=2.1.2,!=2.1.6,>=2.0.3 in /opt/conda/lib/python3.9/site-packages (from matplotlib>=2.2.3->phik) (2.4.7)\n",
      "Requirement already satisfied: kiwisolver>=1.0.1 in /opt/conda/lib/python3.9/site-packages (from matplotlib>=2.2.3->phik) (1.4.4)\n",
      "Requirement already satisfied: pillow>=6.2.0 in /opt/conda/lib/python3.9/site-packages (from matplotlib>=2.2.3->phik) (8.4.0)\n",
      "Requirement already satisfied: cycler>=0.10 in /opt/conda/lib/python3.9/site-packages (from matplotlib>=2.2.3->phik) (0.11.0)\n",
      "Requirement already satisfied: python-dateutil>=2.1 in /opt/conda/lib/python3.9/site-packages (from matplotlib>=2.2.3->phik) (2.8.1)\n",
      "Requirement already satisfied: pytz>=2017.3 in /opt/conda/lib/python3.9/site-packages (from pandas>=0.25.1->phik) (2021.1)\n",
      "Requirement already satisfied: six>=1.5 in /opt/conda/lib/python3.9/site-packages (from python-dateutil>=2.1->matplotlib>=2.2.3->phik) (1.16.0)\n"
     ]
    }
   ],
   "source": [
    "!pip install phik -U"
   ]
  },
  {
   "cell_type": "code",
   "execution_count": 2,
   "id": "dc393bc9",
   "metadata": {},
   "outputs": [],
   "source": [
    "# Импортируем библиотеки\n",
    "import pandas as pd\n",
    "\n",
    "# Загружаем библиотеки для визуализации данных\n",
    "import matplotlib.pyplot as plt\n",
    "import seaborn as sns\n",
    "\n",
    "# Загружаем библиотеку для расчёта коэффициента корреляции phi_k\n",
    "from phik import phik_matrix"
   ]
  },
  {
   "cell_type": "code",
   "execution_count": 3,
   "id": "c605b769",
   "metadata": {},
   "outputs": [],
   "source": [
    "# Выгружаем данные в переменные bank_df и clients_df\n",
    "df = pd.read_csv('https://code.s3.yandex.net/datasets/rest_info.csv')\n",
    "df_price = pd.read_csv('https://code.s3.yandex.net/datasets/rest_price.csv')"
   ]
  },
  {
   "cell_type": "markdown",
   "id": "503a6b73",
   "metadata": {},
   "source": [
    "Познакомимся с данными датасета `rest_info.csv` — выведем первые строки методом `head()`, а информацию о датафрейме методом `info()`:"
   ]
  },
  {
   "cell_type": "code",
   "execution_count": 4,
   "id": "633bbaaa",
   "metadata": {},
   "outputs": [
    {
     "data": {
      "text/html": [
       "<div>\n",
       "<style scoped>\n",
       "    .dataframe tbody tr th:only-of-type {\n",
       "        vertical-align: middle;\n",
       "    }\n",
       "\n",
       "    .dataframe tbody tr th {\n",
       "        vertical-align: top;\n",
       "    }\n",
       "\n",
       "    .dataframe thead th {\n",
       "        text-align: right;\n",
       "    }\n",
       "</style>\n",
       "<table border=\"1\" class=\"dataframe\">\n",
       "  <thead>\n",
       "    <tr style=\"text-align: right;\">\n",
       "      <th></th>\n",
       "      <th>id</th>\n",
       "      <th>name</th>\n",
       "      <th>category</th>\n",
       "      <th>address</th>\n",
       "      <th>district</th>\n",
       "      <th>hours</th>\n",
       "      <th>rating</th>\n",
       "      <th>chain</th>\n",
       "      <th>seats</th>\n",
       "    </tr>\n",
       "  </thead>\n",
       "  <tbody>\n",
       "    <tr>\n",
       "      <th>0</th>\n",
       "      <td>0c3e3439a8c64ea5bf6ecd6ca6ae19f0</td>\n",
       "      <td>WoWфли</td>\n",
       "      <td>кафе</td>\n",
       "      <td>Москва, улица Дыбенко, 7/1</td>\n",
       "      <td>Северный административный округ</td>\n",
       "      <td>ежедневно, 10:00–22:00</td>\n",
       "      <td>5.0</td>\n",
       "      <td>0</td>\n",
       "      <td>NaN</td>\n",
       "    </tr>\n",
       "    <tr>\n",
       "      <th>1</th>\n",
       "      <td>045780ada3474c57a2112e505d74b633</td>\n",
       "      <td>Четыре комнаты</td>\n",
       "      <td>ресторан</td>\n",
       "      <td>Москва, улица Дыбенко, 36, корп. 1</td>\n",
       "      <td>Северный административный округ</td>\n",
       "      <td>ежедневно, 10:00–22:00</td>\n",
       "      <td>4.5</td>\n",
       "      <td>0</td>\n",
       "      <td>4.0</td>\n",
       "    </tr>\n",
       "    <tr>\n",
       "      <th>2</th>\n",
       "      <td>1070b6b59144425896c65889347fcff6</td>\n",
       "      <td>Хазри</td>\n",
       "      <td>кафе</td>\n",
       "      <td>Москва, Клязьминская улица, 15</td>\n",
       "      <td>Северный административный округ</td>\n",
       "      <td>пн-чт 11:00–02:00; пт,сб 11:00–05:00; вс 11:00...</td>\n",
       "      <td>4.6</td>\n",
       "      <td>0</td>\n",
       "      <td>45.0</td>\n",
       "    </tr>\n",
       "    <tr>\n",
       "      <th>3</th>\n",
       "      <td>03ac7cd772104f65b58b349dc59f03ee</td>\n",
       "      <td>Dormouse Coffee Shop</td>\n",
       "      <td>кофейня</td>\n",
       "      <td>Москва, улица Маршала Федоренко, 12</td>\n",
       "      <td>Северный административный округ</td>\n",
       "      <td>ежедневно, 09:00–22:00</td>\n",
       "      <td>5.0</td>\n",
       "      <td>0</td>\n",
       "      <td>NaN</td>\n",
       "    </tr>\n",
       "    <tr>\n",
       "      <th>4</th>\n",
       "      <td>a163aada139c4c7f87b0b1c0b466a50f</td>\n",
       "      <td>Иль Марко</td>\n",
       "      <td>пиццерия</td>\n",
       "      <td>Москва, Правобережная улица, 1Б</td>\n",
       "      <td>Северный административный округ</td>\n",
       "      <td>ежедневно, 10:00–22:00</td>\n",
       "      <td>5.0</td>\n",
       "      <td>1</td>\n",
       "      <td>148.0</td>\n",
       "    </tr>\n",
       "  </tbody>\n",
       "</table>\n",
       "</div>"
      ],
      "text/plain": [
       "                                 id                  name  category  \\\n",
       "0  0c3e3439a8c64ea5bf6ecd6ca6ae19f0                WoWфли      кафе   \n",
       "1  045780ada3474c57a2112e505d74b633        Четыре комнаты  ресторан   \n",
       "2  1070b6b59144425896c65889347fcff6                 Хазри      кафе   \n",
       "3  03ac7cd772104f65b58b349dc59f03ee  Dormouse Coffee Shop   кофейня   \n",
       "4  a163aada139c4c7f87b0b1c0b466a50f             Иль Марко  пиццерия   \n",
       "\n",
       "                               address                         district  \\\n",
       "0           Москва, улица Дыбенко, 7/1  Северный административный округ   \n",
       "1   Москва, улица Дыбенко, 36, корп. 1  Северный административный округ   \n",
       "2       Москва, Клязьминская улица, 15  Северный административный округ   \n",
       "3  Москва, улица Маршала Федоренко, 12  Северный административный округ   \n",
       "4      Москва, Правобережная улица, 1Б  Северный административный округ   \n",
       "\n",
       "                                               hours  rating  chain  seats  \n",
       "0                             ежедневно, 10:00–22:00     5.0      0    NaN  \n",
       "1                             ежедневно, 10:00–22:00     4.5      0    4.0  \n",
       "2  пн-чт 11:00–02:00; пт,сб 11:00–05:00; вс 11:00...     4.6      0   45.0  \n",
       "3                             ежедневно, 09:00–22:00     5.0      0    NaN  \n",
       "4                             ежедневно, 10:00–22:00     5.0      1  148.0  "
      ]
     },
     "execution_count": 4,
     "metadata": {},
     "output_type": "execute_result"
    }
   ],
   "source": [
    "# Выводим первые строки датафрейма на экран\n",
    "df.head()"
   ]
  },
  {
   "cell_type": "code",
   "execution_count": 5,
   "id": "1dfea602",
   "metadata": {},
   "outputs": [
    {
     "name": "stdout",
     "output_type": "stream",
     "text": [
      "<class 'pandas.core.frame.DataFrame'>\n",
      "RangeIndex: 8406 entries, 0 to 8405\n",
      "Data columns (total 9 columns):\n",
      " #   Column    Non-Null Count  Dtype  \n",
      "---  ------    --------------  -----  \n",
      " 0   id        8406 non-null   object \n",
      " 1   name      8406 non-null   object \n",
      " 2   category  8406 non-null   object \n",
      " 3   address   8406 non-null   object \n",
      " 4   district  8406 non-null   object \n",
      " 5   hours     7870 non-null   object \n",
      " 6   rating    8406 non-null   float64\n",
      " 7   chain     8406 non-null   int64  \n",
      " 8   seats     4795 non-null   float64\n",
      "dtypes: float64(2), int64(1), object(6)\n",
      "memory usage: 591.2+ KB\n"
     ]
    }
   ],
   "source": [
    "# Выводим информацию о датафрейме\n",
    "df.info()"
   ]
  },
  {
   "cell_type": "markdown",
   "id": "42ac0ab3",
   "metadata": {},
   "source": [
    "Датасет `rest_info.csv` содержит 9 столбцов и 8406 строк, в которых представлена информация о заведениях общественного питания\n",
    "\n",
    "После первичного анализа данных можно сделать следующие выводы:\n",
    "- Названия столбцов в отличном виде\n",
    "- Все представленные данные хранятся в типах данных `int64`,  `float64`, `object`. Значения в столбцах `id`, `name`, `category`, `address`, `district` и `hours` представлены объектами. Часть их них показывает наличие у клиента того или иного признака и содержит значения 1 или 0 — размерность этих данных можно оптимизировать.\n",
    "- Пропуски содержатся только в столбцах `hours` и `seats`. Однако следует проверить и другие столбцы: в них могут встречаться значения-индикаторы, которые будут говорить об отсутствии данных.\n",
    "- Судя по первому знакомству с данными, значения в столбцах соответствуют своему описанию.\n",
    "- Замечен столбец `id`, которого нет в описании данных, возможно, это индикатор заказа - первичный ключ датасета.\n",
    "\n",
    "Теперь познакомимся с данными датасета `rest_price.csv`."
   ]
  },
  {
   "cell_type": "code",
   "execution_count": 6,
   "id": "47ee3fc5",
   "metadata": {},
   "outputs": [
    {
     "data": {
      "text/html": [
       "<div>\n",
       "<style scoped>\n",
       "    .dataframe tbody tr th:only-of-type {\n",
       "        vertical-align: middle;\n",
       "    }\n",
       "\n",
       "    .dataframe tbody tr th {\n",
       "        vertical-align: top;\n",
       "    }\n",
       "\n",
       "    .dataframe thead th {\n",
       "        text-align: right;\n",
       "    }\n",
       "</style>\n",
       "<table border=\"1\" class=\"dataframe\">\n",
       "  <thead>\n",
       "    <tr style=\"text-align: right;\">\n",
       "      <th></th>\n",
       "      <th>id</th>\n",
       "      <th>price</th>\n",
       "      <th>avg_bill</th>\n",
       "      <th>middle_avg_bill</th>\n",
       "      <th>middle_coffee_cup</th>\n",
       "    </tr>\n",
       "  </thead>\n",
       "  <tbody>\n",
       "    <tr>\n",
       "      <th>0</th>\n",
       "      <td>045780ada3474c57a2112e505d74b633</td>\n",
       "      <td>выше среднего</td>\n",
       "      <td>Средний счёт:1500–1600 ₽</td>\n",
       "      <td>1550.0</td>\n",
       "      <td>NaN</td>\n",
       "    </tr>\n",
       "    <tr>\n",
       "      <th>1</th>\n",
       "      <td>1070b6b59144425896c65889347fcff6</td>\n",
       "      <td>средние</td>\n",
       "      <td>Средний счёт:от 1000 ₽</td>\n",
       "      <td>1000.0</td>\n",
       "      <td>NaN</td>\n",
       "    </tr>\n",
       "    <tr>\n",
       "      <th>2</th>\n",
       "      <td>03ac7cd772104f65b58b349dc59f03ee</td>\n",
       "      <td>NaN</td>\n",
       "      <td>Цена чашки капучино:155–185 ₽</td>\n",
       "      <td>NaN</td>\n",
       "      <td>170.0</td>\n",
       "    </tr>\n",
       "    <tr>\n",
       "      <th>3</th>\n",
       "      <td>a163aada139c4c7f87b0b1c0b466a50f</td>\n",
       "      <td>средние</td>\n",
       "      <td>Средний счёт:400–600 ₽</td>\n",
       "      <td>500.0</td>\n",
       "      <td>NaN</td>\n",
       "    </tr>\n",
       "    <tr>\n",
       "      <th>4</th>\n",
       "      <td>8a343546b24e4a499ad96eb7d0797a8a</td>\n",
       "      <td>средние</td>\n",
       "      <td>NaN</td>\n",
       "      <td>NaN</td>\n",
       "      <td>NaN</td>\n",
       "    </tr>\n",
       "  </tbody>\n",
       "</table>\n",
       "</div>"
      ],
      "text/plain": [
       "                                 id          price  \\\n",
       "0  045780ada3474c57a2112e505d74b633  выше среднего   \n",
       "1  1070b6b59144425896c65889347fcff6        средние   \n",
       "2  03ac7cd772104f65b58b349dc59f03ee            NaN   \n",
       "3  a163aada139c4c7f87b0b1c0b466a50f        средние   \n",
       "4  8a343546b24e4a499ad96eb7d0797a8a        средние   \n",
       "\n",
       "                        avg_bill  middle_avg_bill  middle_coffee_cup  \n",
       "0       Средний счёт:1500–1600 ₽           1550.0                NaN  \n",
       "1         Средний счёт:от 1000 ₽           1000.0                NaN  \n",
       "2  Цена чашки капучино:155–185 ₽              NaN              170.0  \n",
       "3         Средний счёт:400–600 ₽            500.0                NaN  \n",
       "4                            NaN              NaN                NaN  "
      ]
     },
     "execution_count": 6,
     "metadata": {},
     "output_type": "execute_result"
    }
   ],
   "source": [
    "# Выводим первые строки датафрейма на экран\n",
    "df_price.head()"
   ]
  },
  {
   "cell_type": "code",
   "execution_count": 7,
   "id": "b180c323",
   "metadata": {},
   "outputs": [
    {
     "name": "stdout",
     "output_type": "stream",
     "text": [
      "<class 'pandas.core.frame.DataFrame'>\n",
      "RangeIndex: 4058 entries, 0 to 4057\n",
      "Data columns (total 5 columns):\n",
      " #   Column             Non-Null Count  Dtype  \n",
      "---  ------             --------------  -----  \n",
      " 0   id                 4058 non-null   object \n",
      " 1   price              3315 non-null   object \n",
      " 2   avg_bill           3816 non-null   object \n",
      " 3   middle_avg_bill    3149 non-null   float64\n",
      " 4   middle_coffee_cup  535 non-null    float64\n",
      "dtypes: float64(2), object(3)\n",
      "memory usage: 158.6+ KB\n"
     ]
    }
   ],
   "source": [
    "# Выводим информацию о датафрейме\n",
    "df_price.info()"
   ]
  },
  {
   "cell_type": "markdown",
   "id": "c4adf3ea",
   "metadata": {},
   "source": [
    "Датасет `rest_price.csv` содержит 5 столбцов и 4058 строк, в которых представлена информация о среднем чеке в заведениях общественного питания\n",
    "\n",
    "После первичного анализа данных можно сделать следующие выводы:\n",
    "- Названия столбцов в отличном виде\n",
    "- Все представленные данные хранятся в типах данных `float64`, `object`. Значения в столбцах `id`, `price`, `avg_bill` представлены объектами\n",
    "- Пропуски содержатся во всех столбцах, кроме `id`.\n",
    "- Судя по первому знакомству с данными, значения в столбцах соответствуют своему описанию.\n",
    "- Замечен столбец `id`, которого нет в описании данных, возможно, это индикатор заказа - первичный ключ датасета."
   ]
  },
  {
   "cell_type": "markdown",
   "id": "71c9a5a3",
   "metadata": {},
   "source": [
    "Первичное знакомство показывает, что данные хорошего качества — они соответствуют описанию и выглядят корректными. Настало время следующего этапа — предобработки данных."
   ]
  },
  {
   "cell_type": "markdown",
   "id": "8f3909cf",
   "metadata": {},
   "source": [
    "### Подготовка единого датафрейма\n",
    "\n",
    "Задача проекта предполагает создание портрета заказов для анализа заведений. Поэтому можно соединить данные о заказах в датасетах `df` и `df_price`\n",
    "\n",
    "Каждая строка в этих датафреймах — это информация о заказе, поэтому такие данные удобно соединить в один датафрейм, который можно использовать для поиска закономерностей в данных. Соединять данные будем по идентификатору заказа. При соединении оставим только полные данные — это значит, что значение `id` клиента должно быть в двух датафреймах.\n",
    "\n",
    "Соединим данные, используя значение параметра `how` по умолчанию — `'inner'`. Это позволит оставить только полные данные по клиентам банка."
   ]
  },
  {
   "cell_type": "code",
   "execution_count": 8,
   "id": "9d32898c",
   "metadata": {},
   "outputs": [],
   "source": [
    "# Соединяем данные в единый датафрейм df\n",
    "df = df.merge(df_price, on='id', how='left')"
   ]
  },
  {
   "cell_type": "code",
   "execution_count": 9,
   "id": "1807c348",
   "metadata": {},
   "outputs": [
    {
     "name": "stdout",
     "output_type": "stream",
     "text": [
      "<class 'pandas.core.frame.DataFrame'>\n",
      "Int64Index: 8406 entries, 0 to 8405\n",
      "Data columns (total 13 columns):\n",
      " #   Column             Non-Null Count  Dtype  \n",
      "---  ------             --------------  -----  \n",
      " 0   id                 8406 non-null   object \n",
      " 1   name               8406 non-null   object \n",
      " 2   category           8406 non-null   object \n",
      " 3   address            8406 non-null   object \n",
      " 4   district           8406 non-null   object \n",
      " 5   hours              7870 non-null   object \n",
      " 6   rating             8406 non-null   float64\n",
      " 7   chain              8406 non-null   int64  \n",
      " 8   seats              4795 non-null   float64\n",
      " 9   price              3315 non-null   object \n",
      " 10  avg_bill           3816 non-null   object \n",
      " 11  middle_avg_bill    3149 non-null   float64\n",
      " 12  middle_coffee_cup  535 non-null    float64\n",
      "dtypes: float64(4), int64(1), object(8)\n",
      "memory usage: 919.4+ KB\n"
     ]
    }
   ],
   "source": [
    "# Выводим информацию о датафрейме\n",
    "df.info()"
   ]
  },
  {
   "cell_type": "markdown",
   "id": "1117a3c8",
   "metadata": {},
   "source": [
    "Данные соединены, и информация обо всех пользователях сохранилась.\n",
    "\n",
    "---"
   ]
  },
  {
   "cell_type": "markdown",
   "id": "58b8e1ef",
   "metadata": {},
   "source": [
    "Создание новой переменный is_24_7:\n",
    " * логическое значение True — если заведение работает ежедневно и круглосуточно;\n",
    " * логическое значение False — в противоположном случае."
   ]
  },
  {
   "cell_type": "code",
   "execution_count": 10,
   "id": "f35118d6",
   "metadata": {},
   "outputs": [
    {
     "data": {
      "text/html": [
       "<div>\n",
       "<style scoped>\n",
       "    .dataframe tbody tr th:only-of-type {\n",
       "        vertical-align: middle;\n",
       "    }\n",
       "\n",
       "    .dataframe tbody tr th {\n",
       "        vertical-align: top;\n",
       "    }\n",
       "\n",
       "    .dataframe thead th {\n",
       "        text-align: right;\n",
       "    }\n",
       "</style>\n",
       "<table border=\"1\" class=\"dataframe\">\n",
       "  <thead>\n",
       "    <tr style=\"text-align: right;\">\n",
       "      <th></th>\n",
       "      <th>id</th>\n",
       "      <th>name</th>\n",
       "      <th>category</th>\n",
       "      <th>address</th>\n",
       "      <th>district</th>\n",
       "      <th>hours</th>\n",
       "      <th>rating</th>\n",
       "      <th>chain</th>\n",
       "      <th>seats</th>\n",
       "      <th>price</th>\n",
       "      <th>avg_bill</th>\n",
       "      <th>middle_avg_bill</th>\n",
       "      <th>middle_coffee_cup</th>\n",
       "      <th>is_24_7</th>\n",
       "    </tr>\n",
       "  </thead>\n",
       "  <tbody>\n",
       "    <tr>\n",
       "      <th>0</th>\n",
       "      <td>0c3e3439a8c64ea5bf6ecd6ca6ae19f0</td>\n",
       "      <td>WoWфли</td>\n",
       "      <td>кафе</td>\n",
       "      <td>Москва, улица Дыбенко, 7/1</td>\n",
       "      <td>Северный административный округ</td>\n",
       "      <td>ежедневно, 10:00–22:00</td>\n",
       "      <td>5.0</td>\n",
       "      <td>0</td>\n",
       "      <td>NaN</td>\n",
       "      <td>NaN</td>\n",
       "      <td>NaN</td>\n",
       "      <td>NaN</td>\n",
       "      <td>NaN</td>\n",
       "      <td>False</td>\n",
       "    </tr>\n",
       "    <tr>\n",
       "      <th>1</th>\n",
       "      <td>045780ada3474c57a2112e505d74b633</td>\n",
       "      <td>Четыре комнаты</td>\n",
       "      <td>ресторан</td>\n",
       "      <td>Москва, улица Дыбенко, 36, корп. 1</td>\n",
       "      <td>Северный административный округ</td>\n",
       "      <td>ежедневно, 10:00–22:00</td>\n",
       "      <td>4.5</td>\n",
       "      <td>0</td>\n",
       "      <td>4.0</td>\n",
       "      <td>выше среднего</td>\n",
       "      <td>Средний счёт:1500–1600 ₽</td>\n",
       "      <td>1550.0</td>\n",
       "      <td>NaN</td>\n",
       "      <td>False</td>\n",
       "    </tr>\n",
       "    <tr>\n",
       "      <th>2</th>\n",
       "      <td>1070b6b59144425896c65889347fcff6</td>\n",
       "      <td>Хазри</td>\n",
       "      <td>кафе</td>\n",
       "      <td>Москва, Клязьминская улица, 15</td>\n",
       "      <td>Северный административный округ</td>\n",
       "      <td>пн-чт 11:00–02:00; пт,сб 11:00–05:00; вс 11:00...</td>\n",
       "      <td>4.6</td>\n",
       "      <td>0</td>\n",
       "      <td>45.0</td>\n",
       "      <td>средние</td>\n",
       "      <td>Средний счёт:от 1000 ₽</td>\n",
       "      <td>1000.0</td>\n",
       "      <td>NaN</td>\n",
       "      <td>False</td>\n",
       "    </tr>\n",
       "    <tr>\n",
       "      <th>3</th>\n",
       "      <td>03ac7cd772104f65b58b349dc59f03ee</td>\n",
       "      <td>Dormouse Coffee Shop</td>\n",
       "      <td>кофейня</td>\n",
       "      <td>Москва, улица Маршала Федоренко, 12</td>\n",
       "      <td>Северный административный округ</td>\n",
       "      <td>ежедневно, 09:00–22:00</td>\n",
       "      <td>5.0</td>\n",
       "      <td>0</td>\n",
       "      <td>NaN</td>\n",
       "      <td>NaN</td>\n",
       "      <td>Цена чашки капучино:155–185 ₽</td>\n",
       "      <td>NaN</td>\n",
       "      <td>170.0</td>\n",
       "      <td>False</td>\n",
       "    </tr>\n",
       "    <tr>\n",
       "      <th>4</th>\n",
       "      <td>a163aada139c4c7f87b0b1c0b466a50f</td>\n",
       "      <td>Иль Марко</td>\n",
       "      <td>пиццерия</td>\n",
       "      <td>Москва, Правобережная улица, 1Б</td>\n",
       "      <td>Северный административный округ</td>\n",
       "      <td>ежедневно, 10:00–22:00</td>\n",
       "      <td>5.0</td>\n",
       "      <td>1</td>\n",
       "      <td>148.0</td>\n",
       "      <td>средние</td>\n",
       "      <td>Средний счёт:400–600 ₽</td>\n",
       "      <td>500.0</td>\n",
       "      <td>NaN</td>\n",
       "      <td>False</td>\n",
       "    </tr>\n",
       "    <tr>\n",
       "      <th>...</th>\n",
       "      <td>...</td>\n",
       "      <td>...</td>\n",
       "      <td>...</td>\n",
       "      <td>...</td>\n",
       "      <td>...</td>\n",
       "      <td>...</td>\n",
       "      <td>...</td>\n",
       "      <td>...</td>\n",
       "      <td>...</td>\n",
       "      <td>...</td>\n",
       "      <td>...</td>\n",
       "      <td>...</td>\n",
       "      <td>...</td>\n",
       "      <td>...</td>\n",
       "    </tr>\n",
       "    <tr>\n",
       "      <th>8401</th>\n",
       "      <td>0342ad1a45ed41ba89dcba246a8267e5</td>\n",
       "      <td>Суши Мания</td>\n",
       "      <td>кафе</td>\n",
       "      <td>Москва, Профсоюзная улица, 56</td>\n",
       "      <td>Юго-Западный административный округ</td>\n",
       "      <td>ежедневно, 09:00–02:00</td>\n",
       "      <td>4.4</td>\n",
       "      <td>0</td>\n",
       "      <td>86.0</td>\n",
       "      <td>NaN</td>\n",
       "      <td>NaN</td>\n",
       "      <td>NaN</td>\n",
       "      <td>NaN</td>\n",
       "      <td>False</td>\n",
       "    </tr>\n",
       "    <tr>\n",
       "      <th>8402</th>\n",
       "      <td>ee6bb7c3650e47bd8186fca08eda1091</td>\n",
       "      <td>Миславнес</td>\n",
       "      <td>кафе</td>\n",
       "      <td>Москва, Пролетарский проспект, 19, корп. 1</td>\n",
       "      <td>Южный административный округ</td>\n",
       "      <td>ежедневно, 08:00–22:00</td>\n",
       "      <td>4.8</td>\n",
       "      <td>0</td>\n",
       "      <td>150.0</td>\n",
       "      <td>NaN</td>\n",
       "      <td>NaN</td>\n",
       "      <td>NaN</td>\n",
       "      <td>NaN</td>\n",
       "      <td>False</td>\n",
       "    </tr>\n",
       "    <tr>\n",
       "      <th>8403</th>\n",
       "      <td>62e8c64d4c89467aba608e39ef87616b</td>\n",
       "      <td>Самовар</td>\n",
       "      <td>кафе</td>\n",
       "      <td>Москва, Люблинская улица, 112А, стр. 1</td>\n",
       "      <td>Юго-Восточный административный округ</td>\n",
       "      <td>ежедневно, круглосуточно</td>\n",
       "      <td>3.9</td>\n",
       "      <td>0</td>\n",
       "      <td>150.0</td>\n",
       "      <td>NaN</td>\n",
       "      <td>Средний счёт:от 150 ₽</td>\n",
       "      <td>150.0</td>\n",
       "      <td>NaN</td>\n",
       "      <td>True</td>\n",
       "    </tr>\n",
       "    <tr>\n",
       "      <th>8404</th>\n",
       "      <td>06a0db5ecd4842d48cd6350aa923e297</td>\n",
       "      <td>Чайхана Sabr</td>\n",
       "      <td>кафе</td>\n",
       "      <td>Москва, Люблинская улица, 112А, стр. 1</td>\n",
       "      <td>Юго-Восточный административный округ</td>\n",
       "      <td>ежедневно, круглосуточно</td>\n",
       "      <td>4.2</td>\n",
       "      <td>1</td>\n",
       "      <td>150.0</td>\n",
       "      <td>NaN</td>\n",
       "      <td>NaN</td>\n",
       "      <td>NaN</td>\n",
       "      <td>NaN</td>\n",
       "      <td>True</td>\n",
       "    </tr>\n",
       "    <tr>\n",
       "      <th>8405</th>\n",
       "      <td>9d56f8f7a7f74df1a925bc0fd2de8aae</td>\n",
       "      <td>Kebab Time</td>\n",
       "      <td>кафе</td>\n",
       "      <td>Москва, Россошанский проезд, 6</td>\n",
       "      <td>Южный административный округ</td>\n",
       "      <td>ежедневно, круглосуточно</td>\n",
       "      <td>3.9</td>\n",
       "      <td>0</td>\n",
       "      <td>12.0</td>\n",
       "      <td>NaN</td>\n",
       "      <td>NaN</td>\n",
       "      <td>NaN</td>\n",
       "      <td>NaN</td>\n",
       "      <td>True</td>\n",
       "    </tr>\n",
       "  </tbody>\n",
       "</table>\n",
       "<p>8406 rows × 14 columns</p>\n",
       "</div>"
      ],
      "text/plain": [
       "                                    id                  name  category  \\\n",
       "0     0c3e3439a8c64ea5bf6ecd6ca6ae19f0                WoWфли      кафе   \n",
       "1     045780ada3474c57a2112e505d74b633        Четыре комнаты  ресторан   \n",
       "2     1070b6b59144425896c65889347fcff6                 Хазри      кафе   \n",
       "3     03ac7cd772104f65b58b349dc59f03ee  Dormouse Coffee Shop   кофейня   \n",
       "4     a163aada139c4c7f87b0b1c0b466a50f             Иль Марко  пиццерия   \n",
       "...                                ...                   ...       ...   \n",
       "8401  0342ad1a45ed41ba89dcba246a8267e5            Суши Мания      кафе   \n",
       "8402  ee6bb7c3650e47bd8186fca08eda1091             Миславнес      кафе   \n",
       "8403  62e8c64d4c89467aba608e39ef87616b               Самовар      кафе   \n",
       "8404  06a0db5ecd4842d48cd6350aa923e297          Чайхана Sabr      кафе   \n",
       "8405  9d56f8f7a7f74df1a925bc0fd2de8aae            Kebab Time      кафе   \n",
       "\n",
       "                                         address  \\\n",
       "0                     Москва, улица Дыбенко, 7/1   \n",
       "1             Москва, улица Дыбенко, 36, корп. 1   \n",
       "2                 Москва, Клязьминская улица, 15   \n",
       "3            Москва, улица Маршала Федоренко, 12   \n",
       "4                Москва, Правобережная улица, 1Б   \n",
       "...                                          ...   \n",
       "8401               Москва, Профсоюзная улица, 56   \n",
       "8402  Москва, Пролетарский проспект, 19, корп. 1   \n",
       "8403      Москва, Люблинская улица, 112А, стр. 1   \n",
       "8404      Москва, Люблинская улица, 112А, стр. 1   \n",
       "8405              Москва, Россошанский проезд, 6   \n",
       "\n",
       "                                  district  \\\n",
       "0          Северный административный округ   \n",
       "1          Северный административный округ   \n",
       "2          Северный административный округ   \n",
       "3          Северный административный округ   \n",
       "4          Северный административный округ   \n",
       "...                                    ...   \n",
       "8401   Юго-Западный административный округ   \n",
       "8402          Южный административный округ   \n",
       "8403  Юго-Восточный административный округ   \n",
       "8404  Юго-Восточный административный округ   \n",
       "8405          Южный административный округ   \n",
       "\n",
       "                                                  hours  rating  chain  seats  \\\n",
       "0                                ежедневно, 10:00–22:00     5.0      0    NaN   \n",
       "1                                ежедневно, 10:00–22:00     4.5      0    4.0   \n",
       "2     пн-чт 11:00–02:00; пт,сб 11:00–05:00; вс 11:00...     4.6      0   45.0   \n",
       "3                                ежедневно, 09:00–22:00     5.0      0    NaN   \n",
       "4                                ежедневно, 10:00–22:00     5.0      1  148.0   \n",
       "...                                                 ...     ...    ...    ...   \n",
       "8401                             ежедневно, 09:00–02:00     4.4      0   86.0   \n",
       "8402                             ежедневно, 08:00–22:00     4.8      0  150.0   \n",
       "8403                           ежедневно, круглосуточно     3.9      0  150.0   \n",
       "8404                           ежедневно, круглосуточно     4.2      1  150.0   \n",
       "8405                           ежедневно, круглосуточно     3.9      0   12.0   \n",
       "\n",
       "              price                       avg_bill  middle_avg_bill  \\\n",
       "0               NaN                            NaN              NaN   \n",
       "1     выше среднего       Средний счёт:1500–1600 ₽           1550.0   \n",
       "2           средние         Средний счёт:от 1000 ₽           1000.0   \n",
       "3               NaN  Цена чашки капучино:155–185 ₽              NaN   \n",
       "4           средние         Средний счёт:400–600 ₽            500.0   \n",
       "...             ...                            ...              ...   \n",
       "8401            NaN                            NaN              NaN   \n",
       "8402            NaN                            NaN              NaN   \n",
       "8403            NaN          Средний счёт:от 150 ₽            150.0   \n",
       "8404            NaN                            NaN              NaN   \n",
       "8405            NaN                            NaN              NaN   \n",
       "\n",
       "      middle_coffee_cup  is_24_7  \n",
       "0                   NaN    False  \n",
       "1                   NaN    False  \n",
       "2                   NaN    False  \n",
       "3                 170.0    False  \n",
       "4                   NaN    False  \n",
       "...                 ...      ...  \n",
       "8401                NaN    False  \n",
       "8402                NaN    False  \n",
       "8403                NaN     True  \n",
       "8404                NaN     True  \n",
       "8405                NaN     True  \n",
       "\n",
       "[8406 rows x 14 columns]"
      ]
     },
     "execution_count": 10,
     "metadata": {},
     "output_type": "execute_result"
    }
   ],
   "source": [
    "def is_open_24_7(hours):\n",
    "    # Проверяем, является ли значение строкой\n",
    "    if isinstance(hours, str):\n",
    "        # Проверяем наличие ключевых слов\n",
    "        if 'ежедневно' in hours and 'круглосуточно' in hours:\n",
    "            return True\n",
    "    return False\n",
    "\n",
    "# Применяем функцию к столбцу hours и создаем новый столбец is_24_7\n",
    "df['is_24_7'] = df['hours'].apply(is_open_24_7)\n",
    "df"
   ]
  },
  {
   "cell_type": "markdown",
   "id": "04294934",
   "metadata": {},
   "source": [
    "## 2. Предобработка данных"
   ]
  },
  {
   "cell_type": "markdown",
   "id": "f8639075",
   "metadata": {},
   "source": [
    "### 2.1. Оптимизируем типы данных\n",
    "\n",
    "Здесь работы не так много — понадобится только провести оптимизацию целочисленных данных в столбце `seats` датасета `rest_info`.\n",
    "\n",
    "Так как в столбце есть значения NaN, переведем в тип Int64"
   ]
  },
  {
   "cell_type": "code",
   "execution_count": 11,
   "id": "e331caf7",
   "metadata": {},
   "outputs": [],
   "source": [
    "# Оптимизируем целочисленный тип данных в датафрейме df\n",
    "df['seats'] = df['seats'].astype('Int64')"
   ]
  },
  {
   "cell_type": "code",
   "execution_count": 12,
   "id": "1bdb6c71",
   "metadata": {},
   "outputs": [
    {
     "data": {
      "text/plain": [
       "id                    object\n",
       "name                  object\n",
       "category              object\n",
       "address               object\n",
       "district              object\n",
       "hours                 object\n",
       "rating               float64\n",
       "chain                  int64\n",
       "seats                  Int64\n",
       "price                 object\n",
       "avg_bill              object\n",
       "middle_avg_bill      float64\n",
       "middle_coffee_cup    float64\n",
       "is_24_7                 bool\n",
       "dtype: object"
      ]
     },
     "execution_count": 12,
     "metadata": {},
     "output_type": "execute_result"
    }
   ],
   "source": [
    "df.dtypes"
   ]
  },
  {
   "cell_type": "code",
   "execution_count": 13,
   "id": "4b96a2d3",
   "metadata": {},
   "outputs": [
    {
     "data": {
      "text/plain": [
       "id                    object\n",
       "price                 object\n",
       "avg_bill              object\n",
       "middle_avg_bill      float64\n",
       "middle_coffee_cup    float64\n",
       "dtype: object"
      ]
     },
     "execution_count": 13,
     "metadata": {},
     "output_type": "execute_result"
    }
   ],
   "source": [
    "df_price.dtypes"
   ]
  },
  {
   "cell_type": "markdown",
   "id": "94402f67",
   "metadata": {},
   "source": [
    "Типы данных были успешно оптимизированы с понижением размерности целочисленных данных.\n",
    "\n",
    "---"
   ]
  },
  {
   "cell_type": "markdown",
   "id": "e98d317d",
   "metadata": {},
   "source": [
    "### 2.2. Проверяем наличие пропусков в данных\n",
    "\n",
    "При первичном анализе мы обнаружили пропуски в столбцах `hours` и `seats` датафрейма `df`. Узнаем абсолютное и относительное количество пропусков в этих столбцах."
   ]
  },
  {
   "cell_type": "code",
   "execution_count": 14,
   "id": "f1503805",
   "metadata": {},
   "outputs": [
    {
     "data": {
      "text/plain": [
       "id                      0\n",
       "name                    0\n",
       "category                0\n",
       "address                 0\n",
       "district                0\n",
       "hours                 536\n",
       "rating                  0\n",
       "chain                   0\n",
       "seats                3611\n",
       "price                5091\n",
       "avg_bill             4590\n",
       "middle_avg_bill      5257\n",
       "middle_coffee_cup    7871\n",
       "is_24_7                 0\n",
       "dtype: int64"
      ]
     },
     "execution_count": 14,
     "metadata": {},
     "output_type": "execute_result"
    }
   ],
   "source": [
    "# Применяем метод isna() к датафрейму df\n",
    "df.isna().sum()"
   ]
  },
  {
   "cell_type": "code",
   "execution_count": 15,
   "id": "0c463cc4",
   "metadata": {},
   "outputs": [
    {
     "data": {
      "text/plain": [
       "id                   0.000000\n",
       "name                 0.000000\n",
       "category             0.000000\n",
       "address              0.000000\n",
       "district             0.000000\n",
       "hours                0.063764\n",
       "rating               0.000000\n",
       "chain                0.000000\n",
       "seats                0.429574\n",
       "price                0.605639\n",
       "avg_bill             0.546039\n",
       "middle_avg_bill      0.625387\n",
       "middle_coffee_cup    0.936355\n",
       "is_24_7              0.000000\n",
       "dtype: float64"
      ]
     },
     "execution_count": 15,
     "metadata": {},
     "output_type": "execute_result"
    }
   ],
   "source": [
    "# Подсчитываем долю строк с пропусками\n",
    "df.isna().sum() / df.shape[0]"
   ]
  },
  {
   "cell_type": "markdown",
   "id": "77b2bc7b",
   "metadata": {},
   "source": [
    "В датафрейме `df` обнаружено 536 пропусков в столбце `hours` — это 6% данных. Количество пропусков не такое большое, поэтому их можно и удалить, чего не сказать о столбце `seats`, где 43% пропусков.\n",
    "\n",
    "Пропуски в этом столбце могут быть вызваны:\n",
    "- Тип заведения такой, что там не предусмотрены посадочные места, например, заведения быстрого питания.\n",
    "- При обработке данных произошёл технический сбой.\n",
    "\n",
    "Проверим первую гипотезу, для этого отберем строки со значениями NaN и будем смотреть на тип заведения."
   ]
  },
  {
   "cell_type": "code",
   "execution_count": 16,
   "id": "76aeed68",
   "metadata": {},
   "outputs": [
    {
     "data": {
      "text/plain": [
       "кафе               1160\n",
       "ресторан            773\n",
       "кофейня             662\n",
       "бар,паб             297\n",
       "быстрое питание     254\n",
       "пиццерия            206\n",
       "столовая            151\n",
       "булочная            108\n",
       "Name: category, dtype: int64"
      ]
     },
     "execution_count": 16,
     "metadata": {},
     "output_type": "execute_result"
    }
   ],
   "source": [
    "df[df['seats'].isna()]['category'].value_counts()"
   ]
  },
  {
   "cell_type": "markdown",
   "id": "015cd5cf",
   "metadata": {},
   "source": [
    "Видно, что большая часть пропусков в категориях кафе и ресторан, что указывает на неправильные догадки, поэтому, можно сделать вывод о том, что произошел технический сбой при обработке данных, следовательно, пока что не будет ничего делать с пропусками, дабы не потерять нужные данные в других столбцах."
   ]
  },
  {
   "cell_type": "markdown",
   "id": "f34106a9",
   "metadata": {},
   "source": [
    "Рассмотрим пропуски в столбцах датасета df_price\n",
    "\n",
    "Сначала стоит проверить, не связаны ли между собой пропуски в определенных столбцах"
   ]
  },
  {
   "cell_type": "code",
   "execution_count": 17,
   "id": "58f5f864",
   "metadata": {},
   "outputs": [
    {
     "data": {
      "text/plain": [
       "id                      0\n",
       "price                 743\n",
       "avg_bill              242\n",
       "middle_avg_bill       909\n",
       "middle_coffee_cup    3523\n",
       "dtype: int64"
      ]
     },
     "execution_count": 17,
     "metadata": {},
     "output_type": "execute_result"
    }
   ],
   "source": [
    "# Применяем метод isna() к датафрейму df\n",
    "df_price.isna().sum()"
   ]
  },
  {
   "cell_type": "code",
   "execution_count": 18,
   "id": "fc5480a9",
   "metadata": {},
   "outputs": [
    {
     "data": {
      "text/plain": [
       "id                   0.000000\n",
       "price                0.088389\n",
       "avg_bill             0.028789\n",
       "middle_avg_bill      0.108137\n",
       "middle_coffee_cup    0.419105\n",
       "dtype: float64"
      ]
     },
     "execution_count": 18,
     "metadata": {},
     "output_type": "execute_result"
    }
   ],
   "source": [
    "# Подсчитываем долю строк с пропусками\n",
    "df_price.isna().sum() / df.shape[0]"
   ]
  },
  {
   "cell_type": "markdown",
   "id": "441ab061",
   "metadata": {},
   "source": [
    "В датафрейме `df_price` обнаружено 743 пропусков в столбце `price` — это 9% данных. Количество пропусков не такое большое, как и в столбцах `avg_bill`, `middle_avg_bill`, поэтому их можно и удалить, чего не сказать о столбце `middle_coffee_cup`, где 42% пропусков.\n",
    "\n",
    "Пропуски в этом столбце могут быть вызваны:\n",
    "- Пропуски связаны с другими столбцами\n",
    "- При обработке данных произошёл технический сбой.\n",
    "\n",
    "Проверим первую гипотезу, для этого отберем строки со значениями NaN и будем смотреть на средний счет и заказ в заведении."
   ]
  },
  {
   "cell_type": "code",
   "execution_count": 19,
   "id": "66c478b9",
   "metadata": {},
   "outputs": [
    {
     "data": {
      "text/html": [
       "<div>\n",
       "<style scoped>\n",
       "    .dataframe tbody tr th:only-of-type {\n",
       "        vertical-align: middle;\n",
       "    }\n",
       "\n",
       "    .dataframe tbody tr th {\n",
       "        vertical-align: top;\n",
       "    }\n",
       "\n",
       "    .dataframe thead th {\n",
       "        text-align: right;\n",
       "    }\n",
       "</style>\n",
       "<table border=\"1\" class=\"dataframe\">\n",
       "  <thead>\n",
       "    <tr style=\"text-align: right;\">\n",
       "      <th></th>\n",
       "      <th>id</th>\n",
       "      <th>price</th>\n",
       "      <th>avg_bill</th>\n",
       "      <th>middle_avg_bill</th>\n",
       "      <th>middle_coffee_cup</th>\n",
       "    </tr>\n",
       "  </thead>\n",
       "  <tbody>\n",
       "    <tr>\n",
       "      <th>0</th>\n",
       "      <td>045780ada3474c57a2112e505d74b633</td>\n",
       "      <td>выше среднего</td>\n",
       "      <td>Средний счёт:1500–1600 ₽</td>\n",
       "      <td>1550.0</td>\n",
       "      <td>NaN</td>\n",
       "    </tr>\n",
       "    <tr>\n",
       "      <th>1</th>\n",
       "      <td>1070b6b59144425896c65889347fcff6</td>\n",
       "      <td>средние</td>\n",
       "      <td>Средний счёт:от 1000 ₽</td>\n",
       "      <td>1000.0</td>\n",
       "      <td>NaN</td>\n",
       "    </tr>\n",
       "    <tr>\n",
       "      <th>3</th>\n",
       "      <td>a163aada139c4c7f87b0b1c0b466a50f</td>\n",
       "      <td>средние</td>\n",
       "      <td>Средний счёт:400–600 ₽</td>\n",
       "      <td>500.0</td>\n",
       "      <td>NaN</td>\n",
       "    </tr>\n",
       "    <tr>\n",
       "      <th>4</th>\n",
       "      <td>8a343546b24e4a499ad96eb7d0797a8a</td>\n",
       "      <td>средние</td>\n",
       "      <td>NaN</td>\n",
       "      <td>NaN</td>\n",
       "      <td>NaN</td>\n",
       "    </tr>\n",
       "    <tr>\n",
       "      <th>5</th>\n",
       "      <td>96ebceb1a09e4e3191133b9fe0379a64</td>\n",
       "      <td>средние</td>\n",
       "      <td>Средний счёт:199 ₽</td>\n",
       "      <td>199.0</td>\n",
       "      <td>NaN</td>\n",
       "    </tr>\n",
       "    <tr>\n",
       "      <th>...</th>\n",
       "      <td>...</td>\n",
       "      <td>...</td>\n",
       "      <td>...</td>\n",
       "      <td>...</td>\n",
       "      <td>...</td>\n",
       "    </tr>\n",
       "    <tr>\n",
       "      <th>4053</th>\n",
       "      <td>962800540173458486f3c465437c2d8b</td>\n",
       "      <td>средние</td>\n",
       "      <td>Цена бокала пива:от 140 ₽</td>\n",
       "      <td>NaN</td>\n",
       "      <td>NaN</td>\n",
       "    </tr>\n",
       "    <tr>\n",
       "      <th>4054</th>\n",
       "      <td>4277890d659341848d7051cbf2e51f51</td>\n",
       "      <td>выше среднего</td>\n",
       "      <td>Средний счёт:1000–1500 ₽</td>\n",
       "      <td>1250.0</td>\n",
       "      <td>NaN</td>\n",
       "    </tr>\n",
       "    <tr>\n",
       "      <th>4055</th>\n",
       "      <td>026cbc478f9b4c3294a83458dcd89982</td>\n",
       "      <td>средние</td>\n",
       "      <td>NaN</td>\n",
       "      <td>NaN</td>\n",
       "      <td>NaN</td>\n",
       "    </tr>\n",
       "    <tr>\n",
       "      <th>4056</th>\n",
       "      <td>71cc394927204d45b81c3a91edb47955</td>\n",
       "      <td>NaN</td>\n",
       "      <td>Средний счёт:50–250 ₽</td>\n",
       "      <td>150.0</td>\n",
       "      <td>NaN</td>\n",
       "    </tr>\n",
       "    <tr>\n",
       "      <th>4057</th>\n",
       "      <td>62e8c64d4c89467aba608e39ef87616b</td>\n",
       "      <td>NaN</td>\n",
       "      <td>Средний счёт:от 150 ₽</td>\n",
       "      <td>150.0</td>\n",
       "      <td>NaN</td>\n",
       "    </tr>\n",
       "  </tbody>\n",
       "</table>\n",
       "<p>3523 rows × 5 columns</p>\n",
       "</div>"
      ],
      "text/plain": [
       "                                    id          price  \\\n",
       "0     045780ada3474c57a2112e505d74b633  выше среднего   \n",
       "1     1070b6b59144425896c65889347fcff6        средние   \n",
       "3     a163aada139c4c7f87b0b1c0b466a50f        средние   \n",
       "4     8a343546b24e4a499ad96eb7d0797a8a        средние   \n",
       "5     96ebceb1a09e4e3191133b9fe0379a64        средние   \n",
       "...                                ...            ...   \n",
       "4053  962800540173458486f3c465437c2d8b        средние   \n",
       "4054  4277890d659341848d7051cbf2e51f51  выше среднего   \n",
       "4055  026cbc478f9b4c3294a83458dcd89982        средние   \n",
       "4056  71cc394927204d45b81c3a91edb47955            NaN   \n",
       "4057  62e8c64d4c89467aba608e39ef87616b            NaN   \n",
       "\n",
       "                       avg_bill  middle_avg_bill  middle_coffee_cup  \n",
       "0      Средний счёт:1500–1600 ₽           1550.0                NaN  \n",
       "1        Средний счёт:от 1000 ₽           1000.0                NaN  \n",
       "3        Средний счёт:400–600 ₽            500.0                NaN  \n",
       "4                           NaN              NaN                NaN  \n",
       "5            Средний счёт:199 ₽            199.0                NaN  \n",
       "...                         ...              ...                ...  \n",
       "4053  Цена бокала пива:от 140 ₽              NaN                NaN  \n",
       "4054   Средний счёт:1000–1500 ₽           1250.0                NaN  \n",
       "4055                        NaN              NaN                NaN  \n",
       "4056      Средний счёт:50–250 ₽            150.0                NaN  \n",
       "4057      Средний счёт:от 150 ₽            150.0                NaN  \n",
       "\n",
       "[3523 rows x 5 columns]"
      ]
     },
     "execution_count": 19,
     "metadata": {},
     "output_type": "execute_result"
    }
   ],
   "source": [
    "df_price[df_price['middle_coffee_cup'].isna()]"
   ]
  },
  {
   "cell_type": "markdown",
   "id": "c1e9a2f0",
   "metadata": {},
   "source": [
    "Из описания данных можно было и догадаться, что пропуски в данном столбце, скорее всего, будут связаны с столбцом avg_bill, так как там есть следующее утверждение: <b>\"Если значения нет или оно не начинается с подстроки «Цена одной чашки капучино», то в столбец ничего не войдёт.\"</b>\n",
    " "
   ]
  },
  {
   "cell_type": "markdown",
   "id": "67da61d1",
   "metadata": {},
   "source": [
    "Поэтому, пока что не будет обрабатывать пропуски в этом столбце, дабы не потерять нужные данные,"
   ]
  },
  {
   "cell_type": "markdown",
   "id": "421a22af",
   "metadata": {},
   "source": [
    "Далее проверим, встречаются ли в данных значения-индикаторы, которые можно рассматривать как пропуски. Иногда для анализа поступают уже частично или полностью подготовленные данные. Это поможет понять качество данных и избежать ошибок при их агрегации, когда значение-индикатор будет учитываться при расчёте среднего или медианы, что исказит исходные данные.\n",
    "\n",
    "Посмотрим на уникальные значения в ключевых данных — среди них рейтинг заведения, индикатор сетевого заведения, кол-во посадочных мест, число с оценкой среднего чека, число с оценкой одной чашки капучино."
   ]
  },
  {
   "cell_type": "code",
   "execution_count": 20,
   "id": "1781645d",
   "metadata": {},
   "outputs": [
    {
     "name": "stdout",
     "output_type": "stream",
     "text": [
      "Уникальные значения в столбце rating:\n",
      "[1.  1.1 1.2 1.3 1.4 1.5 1.6 1.7 1.8 1.9 2.  2.1 2.2 2.3 2.4 2.5 2.6 2.7\n",
      " 2.8 2.9 3.  3.1 3.2 3.3 3.4 3.5 3.6 3.7 3.8 3.9 4.  4.1 4.2 4.3 4.4 4.5\n",
      " 4.6 4.7 4.8 4.9 5. ]\n",
      "\n",
      "Уникальные значения в столбце chain:\n",
      "[0 1]\n",
      "\n",
      "Уникальные значения в столбце seats:\n",
      "<IntegerArray>\n",
      "[   0,    1,    2,    3,    4,    5,    6,    7,    8,    9,\n",
      " ...\n",
      "  644,  650,  660,  675,  760,  920, 1040, 1200, 1288, <NA>]\n",
      "Length: 230, dtype: Int64\n",
      "\n"
     ]
    }
   ],
   "source": [
    "# Проверяем уникальные значения в столбцах\n",
    "for column in ['rating', 'chain', 'seats']:\n",
    "    print(f'Уникальные значения в столбце {column}:')\n",
    "    print(df[column].sort_values().unique())\n",
    "    print()"
   ]
  },
  {
   "cell_type": "code",
   "execution_count": 21,
   "id": "1f728f9a",
   "metadata": {},
   "outputs": [
    {
     "name": "stdout",
     "output_type": "stream",
     "text": [
      "Уникальные значения в столбце middle_avg_bill:\n",
      "[0.000e+00 3.000e+01 5.000e+01 6.700e+01 9.000e+01 1.000e+02 1.070e+02\n",
      " 1.100e+02 1.200e+02 1.250e+02 1.300e+02 1.350e+02 1.400e+02 1.410e+02\n",
      " 1.500e+02 1.550e+02 1.600e+02 1.650e+02 1.670e+02 1.700e+02 1.750e+02\n",
      " 1.800e+02 1.850e+02 1.900e+02 1.950e+02 1.990e+02 2.000e+02 2.050e+02\n",
      " 2.090e+02 2.100e+02 2.150e+02 2.200e+02 2.250e+02 2.290e+02 2.300e+02\n",
      " 2.350e+02 2.400e+02 2.450e+02 2.500e+02 2.550e+02 2.600e+02 2.610e+02\n",
      " 2.650e+02 2.660e+02 2.690e+02 2.700e+02 2.750e+02 2.800e+02 2.840e+02\n",
      " 2.850e+02 2.900e+02 2.910e+02 2.950e+02 2.980e+02 2.990e+02 3.000e+02\n",
      " 3.010e+02 3.040e+02 3.050e+02 3.090e+02 3.100e+02 3.130e+02 3.150e+02\n",
      " 3.170e+02 3.200e+02 3.210e+02 3.240e+02 3.250e+02 3.280e+02 3.300e+02\n",
      " 3.350e+02 3.390e+02 3.400e+02 3.430e+02 3.440e+02 3.450e+02 3.490e+02\n",
      " 3.500e+02 3.520e+02 3.550e+02 3.600e+02 3.620e+02 3.630e+02 3.650e+02\n",
      " 3.660e+02 3.700e+02 3.720e+02 3.730e+02 3.740e+02 3.750e+02 3.820e+02\n",
      " 3.830e+02 3.850e+02 3.870e+02 3.900e+02 3.910e+02 3.920e+02 3.950e+02\n",
      " 3.990e+02 4.000e+02 4.020e+02 4.040e+02 4.070e+02 4.100e+02 4.110e+02\n",
      " 4.120e+02 4.130e+02 4.150e+02 4.160e+02 4.200e+02 4.220e+02 4.250e+02\n",
      " 4.260e+02 4.300e+02 4.320e+02 4.330e+02 4.340e+02 4.350e+02 4.380e+02\n",
      " 4.390e+02 4.400e+02 4.410e+02 4.430e+02 4.450e+02 4.500e+02 4.530e+02\n",
      " 4.650e+02 4.700e+02 4.720e+02 4.750e+02 4.800e+02 4.820e+02 4.900e+02\n",
      " 4.950e+02 4.990e+02 5.000e+02 5.030e+02 5.080e+02 5.100e+02 5.250e+02\n",
      " 5.450e+02 5.490e+02 5.500e+02 5.600e+02 5.750e+02 5.990e+02 6.000e+02\n",
      " 6.200e+02 6.250e+02 6.300e+02 6.500e+02 6.600e+02 6.700e+02 6.750e+02\n",
      " 6.950e+02 7.000e+02 7.250e+02 7.500e+02 7.750e+02 8.000e+02 8.250e+02\n",
      " 8.500e+02 8.600e+02 8.750e+02 9.000e+02 9.100e+02 9.250e+02 9.500e+02\n",
      " 9.750e+02 1.000e+03 1.025e+03 1.040e+03 1.050e+03 1.060e+03 1.075e+03\n",
      " 1.090e+03 1.100e+03 1.125e+03 1.150e+03 1.175e+03 1.200e+03 1.225e+03\n",
      " 1.250e+03 1.300e+03 1.325e+03 1.330e+03 1.350e+03 1.375e+03 1.400e+03\n",
      " 1.450e+03 1.500e+03 1.550e+03 1.600e+03 1.650e+03 1.690e+03 1.700e+03\n",
      " 1.750e+03 1.800e+03 1.850e+03 1.900e+03 2.000e+03 2.100e+03 2.150e+03\n",
      " 2.200e+03 2.250e+03 2.300e+03 2.400e+03 2.500e+03 2.600e+03 2.750e+03\n",
      " 2.900e+03 3.000e+03 3.200e+03 3.250e+03 3.500e+03 3.750e+03 4.000e+03\n",
      " 4.250e+03 4.500e+03 4.750e+03 5.000e+03 5.250e+03 5.500e+03 6.000e+03\n",
      " 6.500e+03 7.000e+03 7.250e+03 1.000e+04 1.100e+04 3.500e+04       nan]\n",
      "\n",
      "Уникальные значения в столбце middle_coffee_cup:\n",
      "[  60.   75.   79.   80.   84.   89.   90.   94.   95.  100.  102.  105.\n",
      "  110.  112.  115.  119.  120.  124.  125.  127.  129.  130.  134.  135.\n",
      "  137.  138.  139.  140.  144.  145.  149.  150.  154.  155.  159.  160.\n",
      "  162.  164.  165.  167.  169.  170.  172.  174.  175.  179.  180.  184.\n",
      "  185.  189.  190.  195.  197.  199.  200.  204.  205.  210.  214.  215.\n",
      "  217.  220.  225.  227.  229.  230.  235.  237.  240.  242.  245.  246.\n",
      "  250.  254.  255.  256.  259.  260.  265.  266.  270.  275.  279.  285.\n",
      "  287.  290.  291.  295.  297.  300.  315.  320.  325.  328.  375. 1568.\n",
      "   nan]\n",
      "\n"
     ]
    }
   ],
   "source": [
    "# Проверяем уникальные значения в столбцах\n",
    "for column in ['middle_avg_bill', 'middle_coffee_cup',]:\n",
    "    print(f'Уникальные значения в столбце {column}:')\n",
    "    print(df_price[column].sort_values().unique())\n",
    "    print()"
   ]
  },
  {
   "cell_type": "markdown",
   "id": "71356151",
   "metadata": {},
   "source": [
    "Все значения выглядят корректными. Теперь можно перейти к изучению дубликатов в данных.\n",
    "\n",
    "---"
   ]
  },
  {
   "cell_type": "markdown",
   "id": "797efbfe",
   "metadata": {},
   "source": [
    "### 2.3. Явные и неявные дубликаты в данных\n",
    "\n",
    "Проверим данные на наличие явных и неявных дубликатов. Начнём с полных дубликатов:"
   ]
  },
  {
   "cell_type": "code",
   "execution_count": 22,
   "id": "516c64d4",
   "metadata": {},
   "outputs": [
    {
     "data": {
      "text/plain": [
       "0"
      ]
     },
     "execution_count": 22,
     "metadata": {},
     "output_type": "execute_result"
    }
   ],
   "source": [
    "# Проверяем полные дубликаты в датафрейме df\n",
    "df.duplicated().sum()"
   ]
  },
  {
   "cell_type": "code",
   "execution_count": 23,
   "id": "0defbf94",
   "metadata": {},
   "outputs": [
    {
     "data": {
      "text/plain": [
       "0"
      ]
     },
     "execution_count": 23,
     "metadata": {},
     "output_type": "execute_result"
    }
   ],
   "source": [
    "# Проверяем полные дубликаты в датафрейме df_price\n",
    "df_price.duplicated().sum()"
   ]
  },
  {
   "cell_type": "markdown",
   "id": "e692eea9",
   "metadata": {},
   "source": [
    "В датафреймах нет полных дубликатов строк. Проверим неявные дубликаты — значения по `id` заказов должны быть уникальными, то есть каждая строка в данных — уникальный заказ:"
   ]
  },
  {
   "cell_type": "code",
   "execution_count": 24,
   "id": "6edb1ab2",
   "metadata": {},
   "outputs": [
    {
     "data": {
      "text/plain": [
       "0"
      ]
     },
     "execution_count": 24,
     "metadata": {},
     "output_type": "execute_result"
    }
   ],
   "source": [
    "# Проверяем неявные дубликаты в датафрейме df\n",
    "df.duplicated(subset='id').sum()"
   ]
  },
  {
   "cell_type": "code",
   "execution_count": 25,
   "id": "ff8093a3",
   "metadata": {},
   "outputs": [
    {
     "data": {
      "text/plain": [
       "0"
      ]
     },
     "execution_count": 25,
     "metadata": {},
     "output_type": "execute_result"
    }
   ],
   "source": [
    "# Проверяем неявные дубликаты в датафрейме df_price\n",
    "df_price.duplicated(subset='id').sum()"
   ]
  },
  {
   "cell_type": "markdown",
   "id": "279bf57a",
   "metadata": {},
   "source": [
    "Тут тоже всё хорошо — каждая строка соответствует уникальному заказу. Теперь проверим корректность написания категориальных значений в данных"
   ]
  },
  {
   "cell_type": "code",
   "execution_count": 26,
   "id": "8cef3fbf",
   "metadata": {},
   "outputs": [
    {
     "name": "stdout",
     "output_type": "stream",
     "text": [
      "Уникальные значения в столбце category:\n",
      "['бар,паб' 'булочная' 'быстрое питание' 'кафе' 'кофейня' 'пиццерия'\n",
      " 'ресторан' 'столовая']\n",
      "\n",
      "Уникальные значения в столбце hours:\n",
      "['Нет информации'\n",
      " 'вт 08:30–17:00; ср,чт 12:00–20:30; пт 08:30–17:00; сб 09:00–16:30'\n",
      " 'вт 13:00–21:00; ср 11:00–20:00; чт 13:00–21:00; пт-вс 11:00–20:00' ...\n",
      " 'чт круглосуточно, перерыв 10:00–20:00; сб круглосуточно'\n",
      " 'чт-вс 20:00–06:00' nan]\n",
      "\n",
      "Уникальные значения в столбце chain:\n",
      "[0 1]\n",
      "\n"
     ]
    }
   ],
   "source": [
    "# Проверяем уникальные значения в категориальных столбцах\n",
    "for column in ['category', 'hours', 'chain']:\n",
    "    print(f'Уникальные значения в столбце {column}:')\n",
    "    print(df[column].sort_values().unique())\n",
    "    print()"
   ]
  },
  {
   "cell_type": "markdown",
   "id": "ef3289bd",
   "metadata": {},
   "source": [
    "Тут также нет ошибок.\n",
    "\n",
    "---"
   ]
  },
  {
   "cell_type": "markdown",
   "id": "6daf1d26",
   "metadata": {},
   "source": [
    "### 2.4. Промежуточные выводы после предобработки\n",
    "\n",
    "На этом предобработка завершена. Предоставленные данные хорошего качества и требуют не так много действий по предобработке.\n",
    "\n",
    "В результате предобработки данных были выполнены следующие действия:\n",
    "\n",
    "- Изучены пропуски в данных. Пропуски обнаружились в столбце `seats` и составляют около 43% данных столбца. Учитывая это количество, пропуски могут отражать особенности заведения и не являться ошибкой в данных. Поэтому их оставили как есть. Пропуски обнаружились в столбце `middle_coffee_cup` и составляют около 42% данных столбца. Они связаны с столбцом `avg_bill`, поэтому их тоже оставили как есть.\n",
    "- Данные проверили на явные и неявные дубликаты — в данных их нет.\n",
    "\n",
    "---"
   ]
  },
  {
   "cell_type": "markdown",
   "id": "1018d826",
   "metadata": {},
   "source": [
    "## 3. Исследовательский анализ данных"
   ]
  },
  {
   "cell_type": "markdown",
   "id": "0223f847",
   "metadata": {},
   "source": [
    "###  3.1. Количество объектов общественного питания по каждой категории."
   ]
  },
  {
   "cell_type": "code",
   "execution_count": 27,
   "id": "3acdcce2",
   "metadata": {},
   "outputs": [
    {
     "name": "stdout",
     "output_type": "stream",
     "text": [
      "Распределение данных по значениям столбца category:\n"
     ]
    },
    {
     "data": {
      "text/plain": [
       "булочная            256\n",
       "столовая            315\n",
       "быстрое питание     603\n",
       "пиццерия            633\n",
       "бар,паб             765\n",
       "кофейня            1413\n",
       "ресторан           2043\n",
       "кафе               2378\n",
       "Name: category, dtype: int64"
      ]
     },
     "execution_count": 27,
     "metadata": {},
     "output_type": "execute_result"
    }
   ],
   "source": [
    "# Проверяем распределение данных по значениям столбца category\n",
    "print('Распределение данных по значениям столбца category:')\n",
    "df['category'].value_counts(ascending=True)"
   ]
  },
  {
   "cell_type": "code",
   "execution_count": 28,
   "id": "4c0f07a3",
   "metadata": {},
   "outputs": [
    {
     "data": {
      "image/png": "[encoded data removed]",
      "text/plain": [
       "<Figure size 720x576 with 1 Axes>"
      ]
     },
     "metadata": {
      "needs_background": "light"
     },
     "output_type": "display_data"
    }
   ],
   "source": [
    "# Создаём контейнер графика matplotlib и задаём его размер\n",
    "plt.figure(figsize=(10, 8))\n",
    "\n",
    "# Строим столбчатую диаграмму с помощью pandas через plot(kind='bar')\n",
    "df['category'].value_counts(ascending=False).plot(\n",
    "               kind='bar', # Тип графика - столбчатая диаграмма\n",
    "               rot=45, # Градус вращения подписи по оси Х\n",
    "               legend=False, # Выключаем легенду\n",
    "               title=f'Распределение заведений в зависимости от категории'\n",
    ")\n",
    "\n",
    "# Настраиваем оформление графика\n",
    "plt.xlabel('Категория')\n",
    "plt.ylabel('Количество заведений')\n",
    "# Добавляем сетку графика\n",
    "plt.grid()\n",
    "\n",
    "# Выводим график\n",
    "plt.show()"
   ]
  },
  {
   "cell_type": "markdown",
   "id": "800a0baf",
   "metadata": {},
   "source": [
    "Большая часть заведений принадлежит категориям - ресторан, кофейня, кафе. Остальные категории менее популярны, самая непопулярная категория - булочная (54 заведения)."
   ]
  },
  {
   "cell_type": "markdown",
   "id": "baf9d871",
   "metadata": {},
   "source": [
    "### 3.2. Распределение количества заведений по административным районам Москвы"
   ]
  },
  {
   "cell_type": "code",
   "execution_count": 29,
   "id": "5c6cd043",
   "metadata": {},
   "outputs": [
    {
     "name": "stdout",
     "output_type": "stream",
     "text": [
      "Распределение данных по значениям столбца district:\n"
     ]
    },
    {
     "data": {
      "text/plain": [
       "Центральный административный округ         2242\n",
       "Северный административный округ             900\n",
       "Южный административный округ                892\n",
       "Северо-Восточный административный округ     891\n",
       "Западный административный округ             851\n",
       "Восточный административный округ            798\n",
       "Юго-Восточный административный округ        714\n",
       "Юго-Западный административный округ         709\n",
       "Северо-Западный административный округ      409\n",
       "Name: district, dtype: int64"
      ]
     },
     "execution_count": 29,
     "metadata": {},
     "output_type": "execute_result"
    }
   ],
   "source": [
    "# Проверяем распределение данных по значениям столбца district\n",
    "print('Распределение данных по значениям столбца district:')\n",
    "df['district'].value_counts()"
   ]
  },
  {
   "cell_type": "code",
   "execution_count": 30,
   "id": "39e30579",
   "metadata": {},
   "outputs": [
    {
     "data": {
      "image/png": "[encoded data removed]",
      "text/plain": [
       "<Figure size 720x576 with 1 Axes>"
      ]
     },
     "metadata": {
      "needs_background": "light"
     },
     "output_type": "display_data"
    }
   ],
   "source": [
    "# Создаём контейнер графика matplotlib и задаём его размер\n",
    "plt.figure(figsize=(10, 8))\n",
    "\n",
    "# Строим столбчатую диаграмму с помощью pandas через plot(kind='bar')\n",
    "df['district'].value_counts(ascending=True).plot(\n",
    "               kind='barh', # Тип графика - столбчатая диаграмма\n",
    "               rot=0, # Градус вращения подписи по оси Х\n",
    "               legend=False, # Выключаем легенду\n",
    "               title=f'Распределение заведений в зависимости от округа'\n",
    "               \n",
    ")\n",
    "\n",
    "# Настраиваем оформление графика\n",
    "plt.xlabel('Округ')\n",
    "plt.ylabel('Количество заведений')\n",
    "# Добавляем сетку графика\n",
    "plt.grid()\n",
    "\n",
    "# Выводим график\n",
    "plt.show()"
   ]
  },
  {
   "cell_type": "markdown",
   "id": "feee0076",
   "metadata": {},
   "source": [
    "Очень заметно выделяется Центральный округ, где сильно больше заведений, чего и можно было ожидать, в остальных округах кол-во заведений относительно сбалансировано"
   ]
  },
  {
   "cell_type": "code",
   "execution_count": 31,
   "id": "874183fb",
   "metadata": {},
   "outputs": [
    {
     "data": {
      "text/plain": [
       "category\n",
       "булочная            50\n",
       "столовая            66\n",
       "быстрое питание     87\n",
       "пиццерия           113\n",
       "бар,паб            364\n",
       "кофейня            428\n",
       "кафе               464\n",
       "ресторан           670\n",
       "Name: id, dtype: int64"
      ]
     },
     "execution_count": 31,
     "metadata": {},
     "output_type": "execute_result"
    }
   ],
   "source": [
    "df_center = df[df['district'] == 'Центральный административный округ'].groupby('category')['id'].count().sort_values(ascending=True)\n",
    "df_center"
   ]
  },
  {
   "cell_type": "code",
   "execution_count": 32,
   "id": "aec76635",
   "metadata": {},
   "outputs": [
    {
     "data": {
      "image/png": "[encoded data removed]",
      "text/plain": [
       "<Figure size 720x576 with 1 Axes>"
      ]
     },
     "metadata": {
      "needs_background": "light"
     },
     "output_type": "display_data"
    }
   ],
   "source": [
    "# Создаём контейнер графика matplotlib и задаём его размер\n",
    "plt.figure(figsize=(10, 8))\n",
    "\n",
    "# Строим столбчатую диаграмму с помощью pandas через plot(kind='bar')\n",
    "df_center.plot(\n",
    "               kind='barh', # Тип графика - столбчатая диаграмма\n",
    "               rot=0, # Градус вращения подписи по оси Х\n",
    "               legend=False, # Выключаем легенду\n",
    "               title=f'Распределение заведений в зависимости от категории в Центральном округе'\n",
    "               \n",
    ")\n",
    "\n",
    "# Настраиваем оформление графика\n",
    "plt.xlabel('Категория')\n",
    "plt.ylabel('Количество заведений')\n",
    "# Добавляем сетку графика\n",
    "plt.grid()\n",
    "\n",
    "# Выводим график\n",
    "plt.show()"
   ]
  },
  {
   "cell_type": "markdown",
   "id": "71cd2085",
   "metadata": {},
   "source": [
    "Нетрудно заметить, что рестораны, кафе и кофейни лидируют по количеству, но также выделяются бары и пабы, догоняющие по кол-ву трех лидеров"
   ]
  },
  {
   "cell_type": "markdown",
   "id": "420cda24",
   "metadata": {},
   "source": [
    "### 3.3. Соотношение сетевых и несетевых заведений "
   ]
  },
  {
   "cell_type": "code",
   "execution_count": 33,
   "id": "c6cea544",
   "metadata": {},
   "outputs": [
    {
     "name": "stdout",
     "output_type": "stream",
     "text": [
      "Распределение данных по значениям столбца chain:\n"
     ]
    },
    {
     "data": {
      "text/plain": [
       "0    5201\n",
       "1    3205\n",
       "Name: chain, dtype: int64"
      ]
     },
     "execution_count": 33,
     "metadata": {},
     "output_type": "execute_result"
    }
   ],
   "source": [
    "# Проверяем распределение данных по значениям столбца chain\n",
    "print('Распределение данных по значениям столбца chain:')\n",
    "df['chain'].value_counts()"
   ]
  },
  {
   "cell_type": "code",
   "execution_count": 34,
   "id": "8d397a87",
   "metadata": {},
   "outputs": [
    {
     "name": "stdout",
     "output_type": "stream",
     "text": [
      "Распределение данных по значениям столбца `chain`:\n",
      "0    0.618725\n",
      "1    0.381275\n",
      "Name: chain, dtype: float64\n"
     ]
    }
   ],
   "source": [
    "# Проверяем распределение данных по значениям в столбце:\n",
    "print(f'Распределение данных по значениям столбца `chain`:')\n",
    "print(df['chain'].value_counts(normalize=True))"
   ]
  },
  {
   "cell_type": "code",
   "execution_count": 35,
   "id": "976d5b1d",
   "metadata": {},
   "outputs": [
    {
     "data": {
      "image/png": "[encoded data removed]",
      "text/plain": [
       "<Figure size 720x576 with 1 Axes>"
      ]
     },
     "metadata": {
      "needs_background": "light"
     },
     "output_type": "display_data"
    }
   ],
   "source": [
    "# Создаём контейнер графика matplotlib и задаём его размер\n",
    "plt.figure(figsize=(10, 8))\n",
    "\n",
    "# Строим столбчатую диаграмму с помощью pandas через plot(kind='bar')\n",
    "df['chain'].value_counts(normalize=True).plot(\n",
    "               kind='bar', # Тип графика — столбчатая диаграмма\n",
    "               rot=0, # Градус вращения подписи по оси Х\n",
    "               legend=False, # Выключаем легенду\n",
    "               title=f'Распределение заведений в зависимости от статуса \"сетевое\"'\n",
    ")\n",
    "\n",
    "# Настраиваем оформление графика\n",
    "plt.xlabel('Сетевое (0 - нет, 1 - да)')\n",
    "plt.ylabel('Доля заведений')\n",
    "# Добавляем сетку графика\n",
    "plt.grid()\n",
    "\n",
    "# Выводим график\n",
    "plt.show()"
   ]
  },
  {
   "cell_type": "code",
   "execution_count": 36,
   "id": "f5f9bb31",
   "metadata": {},
   "outputs": [
    {
     "data": {
      "image/png": "[encoded data removed]",
      "text/plain": [
       "<Figure size 1080x720 with 1 Axes>"
      ]
     },
     "metadata": {
      "needs_background": "light"
     },
     "output_type": "display_data"
    }
   ],
   "source": [
    "# Построим график столбчатой диаграммы\n",
    "grouped = df.groupby('district')['chain'].value_counts().unstack(fill_value=0)\n",
    "grouped.plot(kind='barh',\n",
    "               title=f'Распределение сетевых и несетевых заведений в зависимости от округа',\n",
    "               legend=True,\n",
    "               ylabel='Округ',\n",
    "               xlabel='Количество заведений',\n",
    "               rot=0,\n",
    "               figsize=(15, 10))\n",
    "plt.grid()\n",
    "\n",
    "# Выводим график\n",
    "plt.show()"
   ]
  },
  {
   "cell_type": "markdown",
   "id": "16842d5b",
   "metadata": {},
   "source": [
    "Заметим, что во всех округах преобладают несетевые заведения и исключений нет"
   ]
  },
  {
   "cell_type": "code",
   "execution_count": 37,
   "id": "09c8f2c0",
   "metadata": {},
   "outputs": [
    {
     "data": {
      "text/html": [
       "<div>\n",
       "<style scoped>\n",
       "    .dataframe tbody tr th:only-of-type {\n",
       "        vertical-align: middle;\n",
       "    }\n",
       "\n",
       "    .dataframe tbody tr th {\n",
       "        vertical-align: top;\n",
       "    }\n",
       "\n",
       "    .dataframe thead th {\n",
       "        text-align: right;\n",
       "    }\n",
       "</style>\n",
       "<table border=\"1\" class=\"dataframe\">\n",
       "  <thead>\n",
       "    <tr style=\"text-align: right;\">\n",
       "      <th></th>\n",
       "      <th>chain</th>\n",
       "      <th>id</th>\n",
       "    </tr>\n",
       "    <tr>\n",
       "      <th>category</th>\n",
       "      <th></th>\n",
       "      <th></th>\n",
       "    </tr>\n",
       "  </thead>\n",
       "  <tbody>\n",
       "    <tr>\n",
       "      <th>бар,паб</th>\n",
       "      <td>0.220915</td>\n",
       "      <td>765</td>\n",
       "    </tr>\n",
       "    <tr>\n",
       "      <th>столовая</th>\n",
       "      <td>0.279365</td>\n",
       "      <td>315</td>\n",
       "    </tr>\n",
       "    <tr>\n",
       "      <th>кафе</th>\n",
       "      <td>0.327586</td>\n",
       "      <td>2378</td>\n",
       "    </tr>\n",
       "    <tr>\n",
       "      <th>ресторан</th>\n",
       "      <td>0.357318</td>\n",
       "      <td>2043</td>\n",
       "    </tr>\n",
       "    <tr>\n",
       "      <th>быстрое питание</th>\n",
       "      <td>0.384743</td>\n",
       "      <td>603</td>\n",
       "    </tr>\n",
       "    <tr>\n",
       "      <th>кофейня</th>\n",
       "      <td>0.509554</td>\n",
       "      <td>1413</td>\n",
       "    </tr>\n",
       "    <tr>\n",
       "      <th>пиццерия</th>\n",
       "      <td>0.521327</td>\n",
       "      <td>633</td>\n",
       "    </tr>\n",
       "    <tr>\n",
       "      <th>булочная</th>\n",
       "      <td>0.613281</td>\n",
       "      <td>256</td>\n",
       "    </tr>\n",
       "  </tbody>\n",
       "</table>\n",
       "</div>"
      ],
      "text/plain": [
       "                    chain    id\n",
       "category                       \n",
       "бар,паб          0.220915   765\n",
       "столовая         0.279365   315\n",
       "кафе             0.327586  2378\n",
       "ресторан         0.357318  2043\n",
       "быстрое питание  0.384743   603\n",
       "кофейня          0.509554  1413\n",
       "пиццерия         0.521327   633\n",
       "булочная         0.613281   256"
      ]
     },
     "execution_count": 37,
     "metadata": {},
     "output_type": "execute_result"
    }
   ],
   "source": [
    "df_chain = df.groupby('category')[['chain', 'id']].agg({'chain': 'mean', 'id': 'count'}).sort_values(by='chain')\n",
    "df_chain"
   ]
  },
  {
   "cell_type": "code",
   "execution_count": 38,
   "id": "12f6bdb8",
   "metadata": {},
   "outputs": [
    {
     "data": {
      "image/png": "[encoded data removed]",
      "text/plain": [
       "<Figure size 1080x720 with 1 Axes>"
      ]
     },
     "metadata": {
      "needs_background": "light"
     },
     "output_type": "display_data"
    }
   ],
   "source": [
    "grouped = df.groupby('category')['chain'].value_counts().unstack(fill_value=0)\n",
    "grouped.plot(kind='barh',\n",
    "               title=f'Распределение сетевых и несетевых заведений в зависимости от категории',\n",
    "               legend=True,\n",
    "               ylabel='Категория',\n",
    "               xlabel='Количество заведений',\n",
    "               rot=0,\n",
    "               figsize=(15, 10))\n",
    "plt.grid()\n",
    "\n",
    "# Выводим график\n",
    "plt.show()"
   ]
  },
  {
   "cell_type": "markdown",
   "id": "40adf230",
   "metadata": {},
   "source": [
    "Заметим, что доля сетевых заведений больше там, где категория заведения менее популярна (меньше в количестве)."
   ]
  },
  {
   "cell_type": "markdown",
   "id": "1897df44",
   "metadata": {},
   "source": [
    "### 3.4. Исследование количества посадочных мест"
   ]
  },
  {
   "cell_type": "code",
   "execution_count": 39,
   "id": "e8df3ecb",
   "metadata": {},
   "outputs": [
    {
     "name": "stdout",
     "output_type": "stream",
     "text": [
      "Статистические показатели столбца seats:\n"
     ]
    },
    {
     "data": {
      "text/plain": [
       "count    4795.000000\n",
       "mean      108.421689\n",
       "std       122.833396\n",
       "min         0.000000\n",
       "25%        40.000000\n",
       "50%        75.000000\n",
       "75%       140.000000\n",
       "max      1288.000000\n",
       "Name: seats, dtype: float64"
      ]
     },
     "execution_count": 39,
     "metadata": {},
     "output_type": "execute_result"
    }
   ],
   "source": [
    "# Изучаем статистические показатели столбца seats\n",
    "print('Статистические показатели столбца seats:')\n",
    "df['seats'].describe()"
   ]
  },
  {
   "cell_type": "code",
   "execution_count": 40,
   "id": "b7b8045a",
   "metadata": {},
   "outputs": [
    {
     "data": {
      "image/png": "[encoded data removed]",
      "text/plain": [
       "<Figure size 720x576 with 1 Axes>"
      ]
     },
     "metadata": {
      "needs_background": "light"
     },
     "output_type": "display_data"
    }
   ],
   "source": [
    "# Создаём контейнер графика matplotlib и задаём его размер\n",
    "plt.figure(figsize=(10, 8))\n",
    "\n",
    "# Строим гистограмму с помощью pandas через plot(kind='hist')\n",
    "df['seats'].plot(\n",
    "                kind='hist', # Тип графика - гистограмма\n",
    "                bins=50, # Устанавливаем количество корзин\n",
    "                alpha=0.75,\n",
    "                edgecolor='black',\n",
    "                rot=0, # Градус вращения подписи по оси Х\n",
    ")\n",
    "\n",
    "# Настраиваем оформление графика\n",
    "plt.title('Распределение значений кол-ва посадочных мест')\n",
    "plt.xlabel('Кол-во посадочных мест')\n",
    "plt.ylabel('Частота')\n",
    "# Добавляем сетку графика\n",
    "plt.grid()\n",
    "\n",
    "# Выводим график\n",
    "plt.show()"
   ]
  },
  {
   "cell_type": "code",
   "execution_count": 41,
   "id": "2f6d11a0",
   "metadata": {},
   "outputs": [
    {
     "data": {
      "image/png": "[encoded data removed]",
      "text/plain": [
       "<Figure size 720x288 with 1 Axes>"
      ]
     },
     "metadata": {
      "needs_background": "light"
     },
     "output_type": "display_data"
    }
   ],
   "source": [
    "# Создаём контейнер графика matplotlib и задаём его размер\n",
    "plt.figure(figsize=(10, 4))\n",
    "\n",
    "# Строим диаграмму размаха значений в столбце score\n",
    "df.boxplot(column='seats', vert=False)\n",
    "\n",
    "# Добавляем заголовок и метки оси\n",
    "plt.title('Распределение значений посадочных мест')\n",
    "plt.xlabel('Посадочные места')\n",
    "\n",
    "# Выводим график\n",
    "plt.show()"
   ]
  },
  {
   "cell_type": "markdown",
   "id": "e71219df",
   "metadata": {},
   "source": [
    "Из графиков видно, что распределение не близко к нормальному, заметен длинный хвост справа. Стоит отметить и выбросы, очень редко можно встретить рестораны или кафе, где больше 400 посадочных мест (100 столов по 4 места, например). Так что при дальнейшем анализе такие значения можно будет удалить."
   ]
  },
  {
   "cell_type": "code",
   "execution_count": 42,
   "id": "a79db441",
   "metadata": {},
   "outputs": [
    {
     "data": {
      "text/plain": [
       "category\n",
       "булочная           50.0\n",
       "пиццерия           55.0\n",
       "кафе               60.0\n",
       "быстрое питание    65.0\n",
       "столовая           75.5\n",
       "кофейня            80.0\n",
       "бар,паб            82.5\n",
       "ресторан           86.0\n",
       "Name: seats, dtype: Float64"
      ]
     },
     "execution_count": 42,
     "metadata": {},
     "output_type": "execute_result"
    }
   ],
   "source": [
    "grouped = df.groupby('category')['seats'].median().sort_values(ascending=True)\n",
    "grouped"
   ]
  },
  {
   "cell_type": "code",
   "execution_count": 43,
   "id": "1fdbc185",
   "metadata": {},
   "outputs": [
    {
     "data": {
      "image/png": "[encoded data removed]",
      "text/plain": [
       "<Figure size 720x576 with 1 Axes>"
      ]
     },
     "metadata": {
      "needs_background": "light"
     },
     "output_type": "display_data"
    }
   ],
   "source": [
    "# Создаём контейнер графика matplotlib и задаём его размер\n",
    "plt.figure(figsize=(10, 8))\n",
    "\n",
    "# Строим столбчатую диаграмму с помощью pandas через plot(kind='bar')\n",
    "grouped.plot(\n",
    "               kind='barh', # Тип графика - столбчатая диаграмма\n",
    "               rot=0, # Градус вращения подписи по оси Х\n",
    "               legend=False, # Выключаем легенду\n",
    "               title=f'Распределение кол-ва меcт по категориям'\n",
    "               \n",
    ")\n",
    "\n",
    "# Настраиваем оформление графика\n",
    "plt.xlabel('Категория')\n",
    "plt.ylabel('Количество мест')\n",
    "# Добавляем сетку графика\n",
    "plt.grid()\n",
    "\n",
    "# Выводим график\n",
    "plt.show()"
   ]
  },
  {
   "cell_type": "markdown",
   "id": "f55f2aad",
   "metadata": {},
   "source": [
    "Рестораны лидируют по кол-ву посадочных мест, но не сильно, бары и пабы близки к ним. Стоит отметить, что популярная категория <b>кафе</b> находится ближе к концу списка"
   ]
  },
  {
   "cell_type": "markdown",
   "id": "620fd08d",
   "metadata": {},
   "source": [
    "### 3.5. Исследование рейтинга заведений"
   ]
  },
  {
   "cell_type": "code",
   "execution_count": 44,
   "id": "aef81dcb",
   "metadata": {},
   "outputs": [
    {
     "name": "stdout",
     "output_type": "stream",
     "text": [
      "Статистические показатели столбца rating:\n"
     ]
    },
    {
     "data": {
      "text/plain": [
       "count    8406.000000\n",
       "mean        4.229895\n",
       "std         0.470348\n",
       "min         1.000000\n",
       "25%         4.100000\n",
       "50%         4.300000\n",
       "75%         4.400000\n",
       "max         5.000000\n",
       "Name: rating, dtype: float64"
      ]
     },
     "execution_count": 44,
     "metadata": {},
     "output_type": "execute_result"
    }
   ],
   "source": [
    "# Изучаем статистические показатели столбца rating\n",
    "print('Статистические показатели столбца rating:')\n",
    "df['rating'].describe()"
   ]
  },
  {
   "cell_type": "code",
   "execution_count": 45,
   "id": "56290bbd",
   "metadata": {},
   "outputs": [
    {
     "data": {
      "image/png": "[encoded data removed]",
      "text/plain": [
       "<Figure size 720x576 with 1 Axes>"
      ]
     },
     "metadata": {
      "needs_background": "light"
     },
     "output_type": "display_data"
    }
   ],
   "source": [
    "# Создаём контейнер графика matplotlib и задаём его размер\n",
    "plt.figure(figsize=(10, 8))\n",
    "\n",
    "# Строим гистограмму с помощью pandas через plot(kind='hist')\n",
    "df['rating'].plot(\n",
    "                kind='hist', # Тип графика - гистограмма\n",
    "                bins=50, # Устанавливаем количество корзин\n",
    "                alpha=0.75,\n",
    "                edgecolor='black',\n",
    "                rot=0, # Градус вращения подписи по оси Х\n",
    ")\n",
    "\n",
    "# Настраиваем оформление графика\n",
    "plt.title('Распределение значений рейтинга заведений')\n",
    "plt.xlabel('Рейтинг')\n",
    "plt.ylabel('Частота')\n",
    "# Добавляем сетку графика\n",
    "plt.grid()\n",
    "\n",
    "# Выводим график\n",
    "plt.show()"
   ]
  },
  {
   "cell_type": "code",
   "execution_count": 46,
   "id": "b2daba63",
   "metadata": {},
   "outputs": [
    {
     "data": {
      "image/png": "[encoded data removed]",
      "text/plain": [
       "<Figure size 720x288 with 1 Axes>"
      ]
     },
     "metadata": {
      "needs_background": "light"
     },
     "output_type": "display_data"
    }
   ],
   "source": [
    "# Создаём контейнер графика matplotlib и задаём его размер\n",
    "plt.figure(figsize=(10, 4))\n",
    "\n",
    "# Строим диаграмму размаха значений в столбце score\n",
    "df.boxplot(column='rating', vert=False)\n",
    "\n",
    "# Добавляем заголовок и метки оси\n",
    "plt.title('Распределение значений рейтинга')\n",
    "plt.xlabel('Рейтинг')\n",
    "\n",
    "# Выводим график\n",
    "plt.show()"
   ]
  },
  {
   "cell_type": "markdown",
   "id": "519da2f7",
   "metadata": {},
   "source": [
    "Распределение близко к нормальному, но присутствует длинный хвост слева, большая часть значений сосредоточена около оценки 4, разброс данных не очень сильный, выбросы, отмеченные на boxplot не стоит удалять, так как это независимая оценка заведения."
   ]
  },
  {
   "cell_type": "code",
   "execution_count": 47,
   "id": "05f15d05",
   "metadata": {},
   "outputs": [
    {
     "data": {
      "text/plain": [
       "category\n",
       "быстрое питание    4.050249\n",
       "кафе               4.123886\n",
       "столовая           4.211429\n",
       "булочная           4.268359\n",
       "кофейня            4.277282\n",
       "ресторан           4.290357\n",
       "пиццерия           4.301264\n",
       "бар,паб            4.387712\n",
       "Name: rating, dtype: float64"
      ]
     },
     "execution_count": 47,
     "metadata": {},
     "output_type": "execute_result"
    }
   ],
   "source": [
    "grouped = df.groupby('category')['rating'].mean().sort_values(ascending=True)\n",
    "grouped"
   ]
  },
  {
   "cell_type": "code",
   "execution_count": 48,
   "id": "06b8873f",
   "metadata": {},
   "outputs": [
    {
     "data": {
      "image/png": "[encoded data removed]",
      "text/plain": [
       "<Figure size 720x576 with 1 Axes>"
      ]
     },
     "metadata": {
      "needs_background": "light"
     },
     "output_type": "display_data"
    }
   ],
   "source": [
    "# Создаём контейнер графика matplotlib и задаём его размер\n",
    "plt.figure(figsize=(10, 8))\n",
    "\n",
    "# Строим столбчатую диаграмму с помощью pandas через plot(kind='bar')\n",
    "grouped.plot(\n",
    "               kind='barh', # Тип графика - столбчатая диаграмма\n",
    "               rot=0, # Градус вращения подписи по оси Х\n",
    "               legend=False, # Выключаем легенду\n",
    "               title=f'Распределение рейтинга по категориям'\n",
    "               \n",
    ")\n",
    "\n",
    "# Настраиваем оформление графика\n",
    "plt.xlabel('Категория')\n",
    "plt.ylabel('Рейтинг')\n",
    "# Добавляем сетку графика\n",
    "plt.grid()\n",
    "\n",
    "# Выводим график\n",
    "plt.show()"
   ]
  },
  {
   "cell_type": "markdown",
   "id": "e298fcce",
   "metadata": {},
   "source": [
    "Рейтинг по всем категориям сильно не различается, все значения от 4 до 4.4, разброса сильного нет, стоит отметить, что в среднем все заведения из наших данных очень хорошие."
   ]
  },
  {
   "cell_type": "markdown",
   "id": "b6a47009",
   "metadata": {},
   "source": [
    "### 3.6. Исследование связи с рейтингом"
   ]
  },
  {
   "cell_type": "code",
   "execution_count": 49,
   "id": "5166ca23",
   "metadata": {},
   "outputs": [
    {
     "name": "stdout",
     "output_type": "stream",
     "text": [
      "interval columns not set, guessing: ['chain', 'seats', 'rating']\n",
      "Корреляционная матрица с коэффициентом phi_k для переменной rating\n"
     ]
    },
    {
     "data": {
      "text/html": [
       "<div>\n",
       "<style scoped>\n",
       "    .dataframe tbody tr th:only-of-type {\n",
       "        vertical-align: middle;\n",
       "    }\n",
       "\n",
       "    .dataframe tbody tr th {\n",
       "        vertical-align: top;\n",
       "    }\n",
       "\n",
       "    .dataframe thead th {\n",
       "        text-align: right;\n",
       "    }\n",
       "</style>\n",
       "<table border=\"1\" class=\"dataframe\">\n",
       "  <thead>\n",
       "    <tr style=\"text-align: right;\">\n",
       "      <th></th>\n",
       "      <th>rating</th>\n",
       "    </tr>\n",
       "  </thead>\n",
       "  <tbody>\n",
       "    <tr>\n",
       "      <th>price</th>\n",
       "      <td>0.220295</td>\n",
       "    </tr>\n",
       "    <tr>\n",
       "      <th>district</th>\n",
       "      <td>0.200691</td>\n",
       "    </tr>\n",
       "    <tr>\n",
       "      <th>category</th>\n",
       "      <td>0.190003</td>\n",
       "    </tr>\n",
       "    <tr>\n",
       "      <th>is_24_7</th>\n",
       "      <td>0.150173</td>\n",
       "    </tr>\n",
       "    <tr>\n",
       "      <th>chain</th>\n",
       "      <td>0.108092</td>\n",
       "    </tr>\n",
       "    <tr>\n",
       "      <th>seats</th>\n",
       "      <td>0.000000</td>\n",
       "    </tr>\n",
       "  </tbody>\n",
       "</table>\n",
       "</div>"
      ],
      "text/plain": [
       "            rating\n",
       "price     0.220295\n",
       "district  0.200691\n",
       "category  0.190003\n",
       "is_24_7   0.150173\n",
       "chain     0.108092\n",
       "seats     0.000000"
      ]
     },
     "execution_count": 49,
     "metadata": {},
     "output_type": "execute_result"
    }
   ],
   "source": [
    "# Вычисляем корреляционную матрицу с использованием phi_k\n",
    "correlation_matrix = df[['category', 'district', 'chain', 'seats', 'price', 'is_24_7', 'rating']].phik_matrix()\n",
    "\n",
    "# Выводим результат\n",
    "print('Корреляционная матрица с коэффициентом phi_k для переменной rating')\n",
    "correlation_matrix.loc[correlation_matrix.index != 'rating'][['rating']].sort_values(by='rating', ascending=False)"
   ]
  },
  {
   "cell_type": "markdown",
   "id": "309fa117",
   "metadata": {},
   "source": [
    "Нас интересует связь рейтинга с другими данными, поэтому на экран был выведен только столбец `rating` итоговой матрицы корреляции."
   ]
  },
  {
   "cell_type": "markdown",
   "id": "cbce1e82",
   "metadata": {},
   "source": [
    "Наибольшая корреляция рейтинга наблюдается с ценами заведения (`0.22`), категорией заведения (`0.2`) и округом заведения (`0.19`). Для остальных признаков коэффициент корреляции снижается с `0.19` до `0`.\n",
    "\n",
    "Перед тем как перейти к дальнейшему анализу, визуализируем результат корреляции с помощью тепловой карты и библиотеки seaborn:"
   ]
  },
  {
   "cell_type": "code",
   "execution_count": 50,
   "id": "c70ad345",
   "metadata": {},
   "outputs": [
    {
     "data": {
      "image/png": "[encoded data removed]",
      "text/plain": [
       "<Figure size 144x432 with 1 Axes>"
      ]
     },
     "metadata": {
      "needs_background": "light"
     },
     "output_type": "display_data"
    }
   ],
   "source": [
    "# Строим тепловую карту\n",
    "plt.figure(figsize=(2, 6))\n",
    "\n",
    "# Сохраняем матрицу корреляции признака churn с другими признаками клиента\n",
    "data_heatmap = correlation_matrix.loc[correlation_matrix.index != 'rating'][['rating']].sort_values(by='rating', ascending=False)\n",
    "sns.heatmap(data_heatmap,\n",
    "            annot=True, # Отображаем численные значения в ячейках карты\n",
    "            fmt='.2f', # Форматируем значения корреляции: два знака после точки\n",
    "            cmap='coolwarm', # Устанавливаем цветовую гамму от красного (макс. значение) к синему\n",
    "            linewidths=0.5, # Форматируем линию между ячейками карты\n",
    "            cbar=False # Отключаем цветовую шкалу\n",
    "           )\n",
    "\n",
    "# Добавляем заголовок и подпись по оси Х\n",
    "plt.title('Тепловая карта коэффициента phi_k \\n для данных rating')\n",
    "plt.xlabel('Рейтинг')\n",
    "\n",
    "# Выводим график\n",
    "plt.show()"
   ]
  },
  {
   "cell_type": "markdown",
   "id": "784e862b",
   "metadata": {},
   "source": [
    "Теперь корреляция между рейтингом и другими признаками наглядно отображена. Можно продолжить исследование данных.\n",
    "\n",
    "---"
   ]
  },
  {
   "cell_type": "code",
   "execution_count": 51,
   "id": "f68b3bb9",
   "metadata": {},
   "outputs": [
    {
     "data": {
      "text/plain": [
       "price\n",
       "высокие          4.436611\n",
       "выше среднего    4.386348\n",
       "низкие           4.173077\n",
       "средние          4.297874\n",
       "Name: rating, dtype: float64"
      ]
     },
     "execution_count": 51,
     "metadata": {},
     "output_type": "execute_result"
    }
   ],
   "source": [
    "grouped = df.groupby('price')['rating'].mean()\n",
    "grouped"
   ]
  },
  {
   "cell_type": "markdown",
   "id": "ec5c37f6",
   "metadata": {},
   "source": [
    "Можно заметить, что, чем больше цены в заведении, тем больше его рейтинг."
   ]
  },
  {
   "cell_type": "markdown",
   "id": "acf6423f",
   "metadata": {},
   "source": [
    "### 3.7. Топ-15 популярных сетей в Москве"
   ]
  },
  {
   "cell_type": "code",
   "execution_count": 52,
   "id": "f149cca9",
   "metadata": {},
   "outputs": [
    {
     "data": {
      "text/plain": [
       "Кафе                         189\n",
       "Шоколадница                  120\n",
       "Домино'с Пицца                76\n",
       "Додо Пицца                    74\n",
       "One Price Coffee              71\n",
       "                            ... \n",
       "Кап кап                        1\n",
       "Чойхона                        1\n",
       "Подсолнухи                     1\n",
       "Беру! Шашлык                   1\n",
       "The Loft cafe & lobby bar      1\n",
       "Name: name, Length: 5614, dtype: int64"
      ]
     },
     "execution_count": 52,
     "metadata": {},
     "output_type": "execute_result"
    }
   ],
   "source": [
    "df['name'].value_counts()"
   ]
  },
  {
   "cell_type": "code",
   "execution_count": 53,
   "id": "52f05454",
   "metadata": {},
   "outputs": [
    {
     "data": {
      "text/html": [
       "<div>\n",
       "<style scoped>\n",
       "    .dataframe tbody tr th:only-of-type {\n",
       "        vertical-align: middle;\n",
       "    }\n",
       "\n",
       "    .dataframe tbody tr th {\n",
       "        vertical-align: top;\n",
       "    }\n",
       "\n",
       "    .dataframe thead th {\n",
       "        text-align: right;\n",
       "    }\n",
       "</style>\n",
       "<table border=\"1\" class=\"dataframe\">\n",
       "  <thead>\n",
       "    <tr style=\"text-align: right;\">\n",
       "      <th></th>\n",
       "      <th>name</th>\n",
       "      <th>count</th>\n",
       "      <th>average_rating</th>\n",
       "      <th>category</th>\n",
       "    </tr>\n",
       "  </thead>\n",
       "  <tbody>\n",
       "    <tr>\n",
       "      <th>746</th>\n",
       "      <td>Шоколадница</td>\n",
       "      <td>120</td>\n",
       "      <td>4.177500</td>\n",
       "      <td>кофейня</td>\n",
       "    </tr>\n",
       "    <tr>\n",
       "      <th>344</th>\n",
       "      <td>Домино'с Пицца</td>\n",
       "      <td>76</td>\n",
       "      <td>4.169737</td>\n",
       "      <td>пиццерия</td>\n",
       "    </tr>\n",
       "    <tr>\n",
       "      <th>340</th>\n",
       "      <td>Додо Пицца</td>\n",
       "      <td>74</td>\n",
       "      <td>4.286486</td>\n",
       "      <td>пиццерия</td>\n",
       "    </tr>\n",
       "    <tr>\n",
       "      <th>148</th>\n",
       "      <td>One Price Coffee</td>\n",
       "      <td>71</td>\n",
       "      <td>4.064789</td>\n",
       "      <td>кофейня</td>\n",
       "    </tr>\n",
       "    <tr>\n",
       "      <th>759</th>\n",
       "      <td>Яндекс Лавка</td>\n",
       "      <td>69</td>\n",
       "      <td>3.872464</td>\n",
       "      <td>ресторан</td>\n",
       "    </tr>\n",
       "    <tr>\n",
       "      <th>59</th>\n",
       "      <td>Cofix</td>\n",
       "      <td>65</td>\n",
       "      <td>4.075385</td>\n",
       "      <td>кофейня</td>\n",
       "    </tr>\n",
       "    <tr>\n",
       "      <th>170</th>\n",
       "      <td>Prime</td>\n",
       "      <td>50</td>\n",
       "      <td>4.116000</td>\n",
       "      <td>ресторан</td>\n",
       "    </tr>\n",
       "    <tr>\n",
       "      <th>679</th>\n",
       "      <td>Хинкальная</td>\n",
       "      <td>44</td>\n",
       "      <td>4.322727</td>\n",
       "      <td>быстрое питание</td>\n",
       "    </tr>\n",
       "    <tr>\n",
       "      <th>378</th>\n",
       "      <td>КОФЕПОРТ</td>\n",
       "      <td>42</td>\n",
       "      <td>4.147619</td>\n",
       "      <td>кофейня</td>\n",
       "    </tr>\n",
       "    <tr>\n",
       "      <th>431</th>\n",
       "      <td>Кулинарная лавка братьев Караваевых</td>\n",
       "      <td>39</td>\n",
       "      <td>4.394872</td>\n",
       "      <td>кафе</td>\n",
       "    </tr>\n",
       "    <tr>\n",
       "      <th>643</th>\n",
       "      <td>Теремок</td>\n",
       "      <td>38</td>\n",
       "      <td>4.123684</td>\n",
       "      <td>ресторан</td>\n",
       "    </tr>\n",
       "    <tr>\n",
       "      <th>699</th>\n",
       "      <td>Чайхана</td>\n",
       "      <td>37</td>\n",
       "      <td>3.924324</td>\n",
       "      <td>кафе</td>\n",
       "    </tr>\n",
       "    <tr>\n",
       "      <th>40</th>\n",
       "      <td>CofeFest</td>\n",
       "      <td>32</td>\n",
       "      <td>3.984375</td>\n",
       "      <td>кофейня</td>\n",
       "    </tr>\n",
       "    <tr>\n",
       "      <th>273</th>\n",
       "      <td>Буханка</td>\n",
       "      <td>32</td>\n",
       "      <td>4.396875</td>\n",
       "      <td>булочная</td>\n",
       "    </tr>\n",
       "    <tr>\n",
       "      <th>491</th>\n",
       "      <td>Му-Му</td>\n",
       "      <td>27</td>\n",
       "      <td>4.229630</td>\n",
       "      <td>кафе</td>\n",
       "    </tr>\n",
       "  </tbody>\n",
       "</table>\n",
       "</div>"
      ],
      "text/plain": [
       "                                    name  count  average_rating  \\\n",
       "746                          Шоколадница    120        4.177500   \n",
       "344                       Домино'с Пицца     76        4.169737   \n",
       "340                           Додо Пицца     74        4.286486   \n",
       "148                     One Price Coffee     71        4.064789   \n",
       "759                         Яндекс Лавка     69        3.872464   \n",
       "59                                 Cofix     65        4.075385   \n",
       "170                                Prime     50        4.116000   \n",
       "679                           Хинкальная     44        4.322727   \n",
       "378                             КОФЕПОРТ     42        4.147619   \n",
       "431  Кулинарная лавка братьев Караваевых     39        4.394872   \n",
       "643                              Теремок     38        4.123684   \n",
       "699                              Чайхана     37        3.924324   \n",
       "40                              CofeFest     32        3.984375   \n",
       "273                              Буханка     32        4.396875   \n",
       "491                                Му-Му     27        4.229630   \n",
       "\n",
       "            category  \n",
       "746          кофейня  \n",
       "344         пиццерия  \n",
       "340         пиццерия  \n",
       "148          кофейня  \n",
       "759         ресторан  \n",
       "59           кофейня  \n",
       "170         ресторан  \n",
       "679  быстрое питание  \n",
       "378          кофейня  \n",
       "431             кафе  \n",
       "643         ресторан  \n",
       "699             кафе  \n",
       "40           кофейня  \n",
       "273         булочная  \n",
       "491             кафе  "
      ]
     },
     "execution_count": 53,
     "metadata": {},
     "output_type": "execute_result"
    }
   ],
   "source": [
    "grouped = df[df['chain'] == 1].groupby('name').agg(\n",
    "    count=('name', 'size'),\n",
    "    average_rating=('rating', 'mean'),\n",
    "    category=('category', 'first')  # Предполагаем, что категория одинаковая для сети\n",
    ").reset_index()\n",
    "\n",
    "# Находим топ-15 популярных сетей\n",
    "top_15 = grouped.nlargest(15, 'count')\n",
    "top_15"
   ]
  },
  {
   "cell_type": "code",
   "execution_count": 54,
   "id": "ca7448fb",
   "metadata": {},
   "outputs": [
    {
     "data": {
      "image/png": "[encoded data removed]",
      "text/plain": [
       "<Figure size 720x432 with 1 Axes>"
      ]
     },
     "metadata": {
      "needs_background": "light"
     },
     "output_type": "display_data"
    }
   ],
   "source": [
    "# Визуализация\n",
    "plt.figure(figsize=(10, 6))\n",
    "plt.barh(top_15['name'], top_15['average_rating'], color='skyblue')\n",
    "plt.xlabel('Средний рейтинг')\n",
    "plt.title('Топ-15 популярных сетей в Москве по среднему рейтингу')\n",
    "plt.grid(axis='x')\n",
    "plt.show()"
   ]
  },
  {
   "cell_type": "markdown",
   "id": "6f3a8daf",
   "metadata": {},
   "source": [
    "#### Топ-3 по количеству:"
   ]
  },
  {
   "cell_type": "code",
   "execution_count": 55,
   "id": "de79ca6b",
   "metadata": {},
   "outputs": [
    {
     "data": {
      "text/html": [
       "<div>\n",
       "<style scoped>\n",
       "    .dataframe tbody tr th:only-of-type {\n",
       "        vertical-align: middle;\n",
       "    }\n",
       "\n",
       "    .dataframe tbody tr th {\n",
       "        vertical-align: top;\n",
       "    }\n",
       "\n",
       "    .dataframe thead th {\n",
       "        text-align: right;\n",
       "    }\n",
       "</style>\n",
       "<table border=\"1\" class=\"dataframe\">\n",
       "  <thead>\n",
       "    <tr style=\"text-align: right;\">\n",
       "      <th></th>\n",
       "      <th>index</th>\n",
       "      <th>name</th>\n",
       "      <th>count</th>\n",
       "      <th>average_rating</th>\n",
       "      <th>category</th>\n",
       "    </tr>\n",
       "  </thead>\n",
       "  <tbody>\n",
       "    <tr>\n",
       "      <th>0</th>\n",
       "      <td>746</td>\n",
       "      <td>Шоколадница</td>\n",
       "      <td>120</td>\n",
       "      <td>4.177500</td>\n",
       "      <td>кофейня</td>\n",
       "    </tr>\n",
       "    <tr>\n",
       "      <th>1</th>\n",
       "      <td>344</td>\n",
       "      <td>Домино'с Пицца</td>\n",
       "      <td>76</td>\n",
       "      <td>4.169737</td>\n",
       "      <td>пиццерия</td>\n",
       "    </tr>\n",
       "    <tr>\n",
       "      <th>2</th>\n",
       "      <td>340</td>\n",
       "      <td>Додо Пицца</td>\n",
       "      <td>74</td>\n",
       "      <td>4.286486</td>\n",
       "      <td>пиццерия</td>\n",
       "    </tr>\n",
       "  </tbody>\n",
       "</table>\n",
       "</div>"
      ],
      "text/plain": [
       "   index            name  count  average_rating  category\n",
       "0    746     Шоколадница    120        4.177500   кофейня\n",
       "1    344  Домино'с Пицца     76        4.169737  пиццерия\n",
       "2    340      Додо Пицца     74        4.286486  пиццерия"
      ]
     },
     "execution_count": 55,
     "metadata": {},
     "output_type": "execute_result"
    }
   ],
   "source": [
    "top_3 = top_15.nlargest(3, 'count').reset_index()\n",
    "top_3"
   ]
  },
  {
   "cell_type": "markdown",
   "id": "a88cb3a5",
   "metadata": {},
   "source": [
    "#### Топ-3 по рейтингу:"
   ]
  },
  {
   "cell_type": "code",
   "execution_count": 56,
   "id": "c9db7c02",
   "metadata": {},
   "outputs": [
    {
     "data": {
      "text/html": [
       "<div>\n",
       "<style scoped>\n",
       "    .dataframe tbody tr th:only-of-type {\n",
       "        vertical-align: middle;\n",
       "    }\n",
       "\n",
       "    .dataframe tbody tr th {\n",
       "        vertical-align: top;\n",
       "    }\n",
       "\n",
       "    .dataframe thead th {\n",
       "        text-align: right;\n",
       "    }\n",
       "</style>\n",
       "<table border=\"1\" class=\"dataframe\">\n",
       "  <thead>\n",
       "    <tr style=\"text-align: right;\">\n",
       "      <th></th>\n",
       "      <th>index</th>\n",
       "      <th>name</th>\n",
       "      <th>count</th>\n",
       "      <th>average_rating</th>\n",
       "      <th>category</th>\n",
       "    </tr>\n",
       "  </thead>\n",
       "  <tbody>\n",
       "    <tr>\n",
       "      <th>0</th>\n",
       "      <td>273</td>\n",
       "      <td>Буханка</td>\n",
       "      <td>32</td>\n",
       "      <td>4.396875</td>\n",
       "      <td>булочная</td>\n",
       "    </tr>\n",
       "    <tr>\n",
       "      <th>1</th>\n",
       "      <td>431</td>\n",
       "      <td>Кулинарная лавка братьев Караваевых</td>\n",
       "      <td>39</td>\n",
       "      <td>4.394872</td>\n",
       "      <td>кафе</td>\n",
       "    </tr>\n",
       "    <tr>\n",
       "      <th>2</th>\n",
       "      <td>679</td>\n",
       "      <td>Хинкальная</td>\n",
       "      <td>44</td>\n",
       "      <td>4.322727</td>\n",
       "      <td>быстрое питание</td>\n",
       "    </tr>\n",
       "  </tbody>\n",
       "</table>\n",
       "</div>"
      ],
      "text/plain": [
       "   index                                 name  count  average_rating  \\\n",
       "0    273                              Буханка     32        4.396875   \n",
       "1    431  Кулинарная лавка братьев Караваевых     39        4.394872   \n",
       "2    679                           Хинкальная     44        4.322727   \n",
       "\n",
       "          category  \n",
       "0         булочная  \n",
       "1             кафе  \n",
       "2  быстрое питание  "
      ]
     },
     "execution_count": 56,
     "metadata": {},
     "output_type": "execute_result"
    }
   ],
   "source": [
    "top_3 = top_15.nlargest(3, 'average_rating').reset_index()\n",
    "top_3"
   ]
  },
  {
   "cell_type": "markdown",
   "id": "860ba631",
   "metadata": {},
   "source": [
    "#### Топ-3 по категории:"
   ]
  },
  {
   "cell_type": "code",
   "execution_count": 57,
   "id": "858a4690",
   "metadata": {},
   "outputs": [
    {
     "data": {
      "text/html": [
       "<div>\n",
       "<style scoped>\n",
       "    .dataframe tbody tr th:only-of-type {\n",
       "        vertical-align: middle;\n",
       "    }\n",
       "\n",
       "    .dataframe tbody tr th {\n",
       "        vertical-align: top;\n",
       "    }\n",
       "\n",
       "    .dataframe thead th {\n",
       "        text-align: right;\n",
       "    }\n",
       "</style>\n",
       "<table border=\"1\" class=\"dataframe\">\n",
       "  <thead>\n",
       "    <tr style=\"text-align: right;\">\n",
       "      <th></th>\n",
       "      <th>name</th>\n",
       "      <th>count</th>\n",
       "      <th>average_rating</th>\n",
       "      <th>category</th>\n",
       "    </tr>\n",
       "  </thead>\n",
       "  <tbody>\n",
       "    <tr>\n",
       "      <th>0</th>\n",
       "      <td>Буханка</td>\n",
       "      <td>32</td>\n",
       "      <td>4.396875</td>\n",
       "      <td>булочная</td>\n",
       "    </tr>\n",
       "    <tr>\n",
       "      <th>1</th>\n",
       "      <td>Хинкальная</td>\n",
       "      <td>44</td>\n",
       "      <td>4.322727</td>\n",
       "      <td>быстрое питание</td>\n",
       "    </tr>\n",
       "    <tr>\n",
       "      <th>2</th>\n",
       "      <td>Кулинарная лавка братьев Караваевых</td>\n",
       "      <td>39</td>\n",
       "      <td>4.394872</td>\n",
       "      <td>кафе</td>\n",
       "    </tr>\n",
       "    <tr>\n",
       "      <th>3</th>\n",
       "      <td>Му-Му</td>\n",
       "      <td>27</td>\n",
       "      <td>4.229630</td>\n",
       "      <td>кафе</td>\n",
       "    </tr>\n",
       "    <tr>\n",
       "      <th>4</th>\n",
       "      <td>Чайхана</td>\n",
       "      <td>37</td>\n",
       "      <td>3.924324</td>\n",
       "      <td>кафе</td>\n",
       "    </tr>\n",
       "    <tr>\n",
       "      <th>5</th>\n",
       "      <td>Шоколадница</td>\n",
       "      <td>120</td>\n",
       "      <td>4.177500</td>\n",
       "      <td>кофейня</td>\n",
       "    </tr>\n",
       "    <tr>\n",
       "      <th>6</th>\n",
       "      <td>КОФЕПОРТ</td>\n",
       "      <td>42</td>\n",
       "      <td>4.147619</td>\n",
       "      <td>кофейня</td>\n",
       "    </tr>\n",
       "    <tr>\n",
       "      <th>7</th>\n",
       "      <td>Cofix</td>\n",
       "      <td>65</td>\n",
       "      <td>4.075385</td>\n",
       "      <td>кофейня</td>\n",
       "    </tr>\n",
       "    <tr>\n",
       "      <th>8</th>\n",
       "      <td>Додо Пицца</td>\n",
       "      <td>74</td>\n",
       "      <td>4.286486</td>\n",
       "      <td>пиццерия</td>\n",
       "    </tr>\n",
       "    <tr>\n",
       "      <th>9</th>\n",
       "      <td>Домино'с Пицца</td>\n",
       "      <td>76</td>\n",
       "      <td>4.169737</td>\n",
       "      <td>пиццерия</td>\n",
       "    </tr>\n",
       "    <tr>\n",
       "      <th>10</th>\n",
       "      <td>Теремок</td>\n",
       "      <td>38</td>\n",
       "      <td>4.123684</td>\n",
       "      <td>ресторан</td>\n",
       "    </tr>\n",
       "    <tr>\n",
       "      <th>11</th>\n",
       "      <td>Prime</td>\n",
       "      <td>50</td>\n",
       "      <td>4.116000</td>\n",
       "      <td>ресторан</td>\n",
       "    </tr>\n",
       "    <tr>\n",
       "      <th>12</th>\n",
       "      <td>Яндекс Лавка</td>\n",
       "      <td>69</td>\n",
       "      <td>3.872464</td>\n",
       "      <td>ресторан</td>\n",
       "    </tr>\n",
       "  </tbody>\n",
       "</table>\n",
       "</div>"
      ],
      "text/plain": [
       "                                   name  count  average_rating  \\\n",
       "0                               Буханка     32        4.396875   \n",
       "1                            Хинкальная     44        4.322727   \n",
       "2   Кулинарная лавка братьев Караваевых     39        4.394872   \n",
       "3                                 Му-Му     27        4.229630   \n",
       "4                               Чайхана     37        3.924324   \n",
       "5                           Шоколадница    120        4.177500   \n",
       "6                              КОФЕПОРТ     42        4.147619   \n",
       "7                                 Cofix     65        4.075385   \n",
       "8                            Додо Пицца     74        4.286486   \n",
       "9                        Домино'с Пицца     76        4.169737   \n",
       "10                              Теремок     38        4.123684   \n",
       "11                                Prime     50        4.116000   \n",
       "12                         Яндекс Лавка     69        3.872464   \n",
       "\n",
       "           category  \n",
       "0          булочная  \n",
       "1   быстрое питание  \n",
       "2              кафе  \n",
       "3              кафе  \n",
       "4              кафе  \n",
       "5           кофейня  \n",
       "6           кофейня  \n",
       "7           кофейня  \n",
       "8          пиццерия  \n",
       "9          пиццерия  \n",
       "10         ресторан  \n",
       "11         ресторан  \n",
       "12         ресторан  "
      ]
     },
     "execution_count": 57,
     "metadata": {},
     "output_type": "execute_result"
    }
   ],
   "source": [
    "top_3_per_category = top_15.groupby('category').apply(lambda x: x.nlargest(3, 'average_rating')).reset_index(drop=True)\n",
    "top_3_per_category"
   ]
  },
  {
   "cell_type": "markdown",
   "id": "75bfc561",
   "metadata": {},
   "source": [
    "Заметим, что по количеству заведений лидирует `Шоколадница` с большим отрывом.\n",
    "\n",
    "ТОП-3 по количеству заведений: \n",
    "\n",
    "1. Шоколадница\n",
    "2. Домино'с пицца\n",
    "3. Додо пицца\n",
    "\n",
    "ТОП-3 по рейтингу:\n",
    "\n",
    "1. Буханка\n",
    "2. Кулинарная лавка братьев Караваевых\n",
    "3. Хинкальная\n",
    "\n",
    "\n",
    "Количество по категориям в ТОП-15:\n",
    "\n",
    "`Булочная` - 1\n",
    "`Быстрое питание` - 1\n",
    "`Кафе` - 3\n",
    "`Кофейня` - 3\n",
    "`Пиццерия` - 2\n",
    "`Ресторан` - 3"
   ]
  },
  {
   "cell_type": "markdown",
   "id": "10a65f8a",
   "metadata": {},
   "source": [
    "Стоит отметить, что, чем больше заведений в сети, тем в среднем меньше его рейтинг, чего и стоило ожидать, ведь, чем больше мест, тем сложнее следить за качеством."
   ]
  },
  {
   "cell_type": "markdown",
   "id": "915a1813",
   "metadata": {},
   "source": [
    "### 3.8. Вариация среднего чека заведения в зависимости от района Москвы"
   ]
  },
  {
   "cell_type": "code",
   "execution_count": 58,
   "id": "583ba68b",
   "metadata": {},
   "outputs": [
    {
     "data": {
      "text/html": [
       "<div>\n",
       "<style scoped>\n",
       "    .dataframe tbody tr th:only-of-type {\n",
       "        vertical-align: middle;\n",
       "    }\n",
       "\n",
       "    .dataframe tbody tr th {\n",
       "        vertical-align: top;\n",
       "    }\n",
       "\n",
       "    .dataframe thead th {\n",
       "        text-align: right;\n",
       "    }\n",
       "</style>\n",
       "<table border=\"1\" class=\"dataframe\">\n",
       "  <thead>\n",
       "    <tr style=\"text-align: right;\">\n",
       "      <th></th>\n",
       "      <th>district</th>\n",
       "      <th>avg_middle</th>\n",
       "    </tr>\n",
       "  </thead>\n",
       "  <tbody>\n",
       "    <tr>\n",
       "      <th>6</th>\n",
       "      <td>Юго-Восточный административный округ</td>\n",
       "      <td>654.097938</td>\n",
       "    </tr>\n",
       "    <tr>\n",
       "      <th>3</th>\n",
       "      <td>Северо-Восточный административный округ</td>\n",
       "      <td>716.611296</td>\n",
       "    </tr>\n",
       "    <tr>\n",
       "      <th>7</th>\n",
       "      <td>Юго-Западный административный округ</td>\n",
       "      <td>792.561702</td>\n",
       "    </tr>\n",
       "    <tr>\n",
       "      <th>0</th>\n",
       "      <td>Восточный административный округ</td>\n",
       "      <td>820.626923</td>\n",
       "    </tr>\n",
       "    <tr>\n",
       "      <th>4</th>\n",
       "      <td>Северо-Западный административный округ</td>\n",
       "      <td>822.222930</td>\n",
       "    </tr>\n",
       "    <tr>\n",
       "      <th>8</th>\n",
       "      <td>Южный административный округ</td>\n",
       "      <td>834.398089</td>\n",
       "    </tr>\n",
       "    <tr>\n",
       "      <th>2</th>\n",
       "      <td>Северный административный округ</td>\n",
       "      <td>927.959627</td>\n",
       "    </tr>\n",
       "    <tr>\n",
       "      <th>1</th>\n",
       "      <td>Западный административный округ</td>\n",
       "      <td>1053.225490</td>\n",
       "    </tr>\n",
       "    <tr>\n",
       "      <th>5</th>\n",
       "      <td>Центральный административный округ</td>\n",
       "      <td>1191.057547</td>\n",
       "    </tr>\n",
       "  </tbody>\n",
       "</table>\n",
       "</div>"
      ],
      "text/plain": [
       "                                  district   avg_middle\n",
       "6     Юго-Восточный административный округ   654.097938\n",
       "3  Северо-Восточный административный округ   716.611296\n",
       "7      Юго-Западный административный округ   792.561702\n",
       "0         Восточный административный округ   820.626923\n",
       "4   Северо-Западный административный округ   822.222930\n",
       "8             Южный административный округ   834.398089\n",
       "2          Северный административный округ   927.959627\n",
       "1          Западный административный округ  1053.225490\n",
       "5       Центральный административный округ  1191.057547"
      ]
     },
     "execution_count": 58,
     "metadata": {},
     "output_type": "execute_result"
    }
   ],
   "source": [
    "grouped_middle = df.groupby('district').agg(avg_middle=('middle_avg_bill', 'mean')).reset_index()\n",
    "grouped_middle = grouped_middle.sort_values('avg_middle', ascending=True)\n",
    "grouped_middle"
   ]
  },
  {
   "cell_type": "code",
   "execution_count": 59,
   "id": "2b24c7e6",
   "metadata": {},
   "outputs": [
    {
     "data": {
      "image/png": "[encoded data removed]",
      "text/plain": [
       "<Figure size 720x432 with 1 Axes>"
      ]
     },
     "metadata": {
      "needs_background": "light"
     },
     "output_type": "display_data"
    }
   ],
   "source": [
    "plt.figure(figsize=(10, 6))\n",
    "plt.barh(grouped_middle['district'], grouped_middle['avg_middle'], color='skyblue')\n",
    "plt.xlabel('Средний чек')\n",
    "plt.title('Средний чек заведений по округам')\n",
    "plt.grid(axis='x')\n",
    "plt.show()"
   ]
  },
  {
   "cell_type": "markdown",
   "id": "2a9104c8",
   "metadata": {},
   "source": [
    "Можно заметить, что лидер по ценам и среднему чеку - центральный округ, кроме этого, чем дальше заведения от центра, тем меньше средний чек, чего и стоило ожидать."
   ]
  },
  {
   "cell_type": "markdown",
   "id": "32638ed3",
   "metadata": {},
   "source": [
    "---\n",
    "\n",
    "#### Промежуточные выводы\n",
    "\n",
    "Анализ взаимосвязи данных показал, что:\n",
    "\n",
    "- Большая часть заведений принадлежит категориям - ресторан, кофейня, кафе. Остальные категории менее популярны.\n",
    "- Центральный округ сильно лидирует по количеству заведений, остальные округа имеют примерно равное распределение заведений.\n",
    "- Во всех округах преобладают несетевые заведения и исключений с аномалиями нет.\n",
    "- В среднем в заведениях 110-200 посадочных мест, были обнарудены выбросы с кол-вом мест >400, в дальнейшем можно удалить эти данные.\n",
    "- Значения рейтинга распределены нормально\n",
    "- Чем больше цены в заведении, тем больше рейтинг\n",
    "- Выделены топ-15 сетей Москвы\n",
    "- Чем дальше округ от центра, тем ниже цены\n",
    "\n",
    "---"
   ]
  },
  {
   "cell_type": "markdown",
   "id": "b1b19701",
   "metadata": {},
   "source": [
    "## 4. Итоговый вывод и рекомендации"
   ]
  },
  {
   "cell_type": "markdown",
   "id": "1937c535",
   "metadata": {},
   "source": [
    "## Подведём итоги\n",
    "\n",
    "В ходе исследования проанализировали данные 4508 заказов заведений города Москва. Данные включали персональную информацию заведений и особенности заказов. Акцент исследования был на том, чтобы найти взаимосвязи между рейтингом и другими факторами, изучить округа и категории заведений.\n",
    "\n",
    "### Общий профиль заведений\n",
    "\n",
    "Исследовательский анализ данных позволил сформировать профиль заведений\n",
    "\n",
    "- Из 4508 проанализированных заказов заведений половина из низ была сделана в ресторанах, кафе и кофейнях, а остальные в категориях малого масштаба\n",
    "\n",
    "- 60% заведений - несетевые, а средний чек по всем заведениям - 958 и средний рейтинг - 4.3\n",
    "\n",
    "- Как правило, чем дальше заведение от центра, тем меньше в нем цены\n",
    "\n",
    "\n",
    "### Факторы, влияющие на рейтинг заведения\n",
    "\n",
    "На значение рейтинга заведения положительно влияют несколько факторов: географическое положение (округ), цены, категория и статус заведения (сетевое или нет)\n",
    "\n",
    "* Чем больше цены в заведении, тем больше у него рейтинг\n",
    "\n",
    "* Большая часть заведений имеют рейтинг 3.8 - 4.3\n",
    "\n",
    "* Среднее количество посадочных мест в заведении - 108\n",
    "\n",
    "* Центральный округ лидирует по кол-ву заведений, но при этом преобладают в нем сильно несетевые, что говорит о возможности развиваться \"зелёным\" заведениям именно там\n",
    "\n",
    "### Рекомендации\n",
    "\n",
    "Стоит посмотреть на заведения с низкими оценками и выявить причины таких оценок.\n",
    "\n",
    "Дополнительно можно провести более детальную сегментацию, чтобы выделить конкретные группы заведений, например, изучить детальнее рестораны или кофейни.\n",
    "\n",
    "Исходя из анализа, более выгодным является Центральный административный округ (25% заведений именно тут, 60% заведений несетевые)\n",
    "\n",
    "Наибольшим спросом пользуются кафе, рестораны и кофейни (50% заведений), так как часто люди не завтракают дома, либо выходят посидеть в ресторане вечером, ведь в нынешнем времени тренд готовить дома уходит на задний план.\n",
    "\n",
    "Стоит ли делать круглосуточное обсуживание, сказать сложно, этот показатель имеет положительную связь с рейтингом заведения (0.15), но непонятно, будет ли это приносить прибыль/убыток.\n",
    "\n",
    "Актуальное среднее кол-во посадочных мест по категориям:\n",
    "* кафе - 98\n",
    "* ресторан - 122\n",
    "* кофейня - 111\n",
    "* бар/паб - 125\n",
    "* столовая - 100\n",
    "* быстрое питание - 99\n",
    "* пиццерия - 94\n",
    "* булочная - 89\n",
    "\n",
    "Из анализа становится понятно, что, чем больше в районе доходы, тем дороже в нём заведения (типичный приём бизнесменов), поэтому, перед тем, как открывать свое заведение, стоит изучить рынок доходов в нужном районе.\n"
   ]
  }
 ],
 "metadata": {
  "ExecuteTimeLog": [
   {
    "duration": 1432,
    "start_time": "2025-01-04T17:11:56.168Z"
   },
   {
    "duration": 220,
    "start_time": "2025-01-04T17:11:57.602Z"
   },
   {
    "duration": 16,
    "start_time": "2025-01-04T17:11:57.824Z"
   },
   {
    "duration": 17,
    "start_time": "2025-01-04T17:11:57.843Z"
   },
   {
    "duration": 9,
    "start_time": "2025-01-04T17:11:57.862Z"
   },
   {
    "duration": 12,
    "start_time": "2025-01-04T17:11:57.873Z"
   },
   {
    "duration": 21,
    "start_time": "2025-01-04T17:11:57.887Z"
   },
   {
    "duration": 25,
    "start_time": "2025-01-04T17:11:57.910Z"
   },
   {
    "duration": 28,
    "start_time": "2025-01-04T17:11:57.937Z"
   },
   {
    "duration": 22,
    "start_time": "2025-01-04T17:11:57.969Z"
   },
   {
    "duration": 15,
    "start_time": "2025-01-04T17:11:57.993Z"
   },
   {
    "duration": 18,
    "start_time": "2025-01-04T17:11:58.010Z"
   },
   {
    "duration": 12,
    "start_time": "2025-01-04T17:11:58.030Z"
   },
   {
    "duration": 24,
    "start_time": "2025-01-04T17:11:58.044Z"
   },
   {
    "duration": 27,
    "start_time": "2025-01-04T17:11:58.070Z"
   },
   {
    "duration": 10,
    "start_time": "2025-01-04T17:11:58.099Z"
   },
   {
    "duration": 15,
    "start_time": "2025-01-04T17:11:58.110Z"
   },
   {
    "duration": 16,
    "start_time": "2025-01-04T17:11:58.126Z"
   },
   {
    "duration": 22,
    "start_time": "2025-01-04T17:11:58.143Z"
   },
   {
    "duration": 6,
    "start_time": "2025-01-04T17:11:58.167Z"
   },
   {
    "duration": 12,
    "start_time": "2025-01-04T17:11:58.175Z"
   },
   {
    "duration": 31,
    "start_time": "2025-01-04T17:11:58.189Z"
   },
   {
    "duration": 12,
    "start_time": "2025-01-04T17:11:58.222Z"
   },
   {
    "duration": 36,
    "start_time": "2025-01-04T17:11:58.236Z"
   },
   {
    "duration": 28,
    "start_time": "2025-01-04T17:11:58.274Z"
   },
   {
    "duration": 7,
    "start_time": "2025-01-04T17:11:58.304Z"
   },
   {
    "duration": 238,
    "start_time": "2025-01-04T17:11:58.313Z"
   },
   {
    "duration": 7,
    "start_time": "2025-01-04T17:11:58.559Z"
   },
   {
    "duration": 252,
    "start_time": "2025-01-04T17:11:58.567Z"
   },
   {
    "duration": 7,
    "start_time": "2025-01-04T17:11:58.821Z"
   },
   {
    "duration": 14,
    "start_time": "2025-01-04T17:11:58.829Z"
   },
   {
    "duration": 167,
    "start_time": "2025-01-04T17:11:58.845Z"
   },
   {
    "duration": 322,
    "start_time": "2025-01-04T17:11:59.014Z"
   },
   {
    "duration": 23,
    "start_time": "2025-01-04T17:11:59.338Z"
   },
   {
    "duration": 254,
    "start_time": "2025-01-04T17:11:59.363Z"
   },
   {
    "duration": 136,
    "start_time": "2025-01-04T17:11:59.619Z"
   },
   {
    "duration": 9,
    "start_time": "2025-01-04T17:11:59.759Z"
   },
   {
    "duration": 464,
    "start_time": "2025-01-04T17:11:59.770Z"
   },
   {
    "duration": 151,
    "start_time": "2025-01-04T17:12:00.237Z"
   },
   {
    "duration": 194,
    "start_time": "2025-01-04T17:12:00.390Z"
   },
   {
    "duration": 225,
    "start_time": "2025-01-04T17:12:00.587Z"
   },
   {
    "duration": 8,
    "start_time": "2025-01-04T17:12:00.814Z"
   },
   {
    "duration": 29,
    "start_time": "2025-01-04T17:12:00.823Z"
   },
   {
    "duration": 35,
    "start_time": "2025-01-04T17:12:00.854Z"
   },
   {
    "duration": 211,
    "start_time": "2025-01-04T17:12:00.890Z"
   },
   {
    "duration": 16,
    "start_time": "2025-01-04T17:12:01.103Z"
   },
   {
    "duration": 220,
    "start_time": "2025-01-04T17:12:01.120Z"
   },
   {
    "duration": 1326,
    "start_time": "2025-01-05T19:22:36.427Z"
   },
   {
    "duration": 0,
    "start_time": "2025-01-05T19:22:37.757Z"
   },
   {
    "duration": 0,
    "start_time": "2025-01-05T19:22:37.759Z"
   },
   {
    "duration": 0,
    "start_time": "2025-01-05T19:22:37.760Z"
   },
   {
    "duration": 0,
    "start_time": "2025-01-05T19:22:37.762Z"
   },
   {
    "duration": 0,
    "start_time": "2025-01-05T19:22:37.763Z"
   },
   {
    "duration": 0,
    "start_time": "2025-01-05T19:22:37.765Z"
   },
   {
    "duration": 0,
    "start_time": "2025-01-05T19:22:37.766Z"
   },
   {
    "duration": 0,
    "start_time": "2025-01-05T19:22:37.768Z"
   },
   {
    "duration": 0,
    "start_time": "2025-01-05T19:22:37.769Z"
   },
   {
    "duration": 0,
    "start_time": "2025-01-05T19:22:37.771Z"
   },
   {
    "duration": 0,
    "start_time": "2025-01-05T19:22:37.772Z"
   },
   {
    "duration": 0,
    "start_time": "2025-01-05T19:22:37.774Z"
   },
   {
    "duration": 0,
    "start_time": "2025-01-05T19:22:37.775Z"
   },
   {
    "duration": 0,
    "start_time": "2025-01-05T19:22:37.776Z"
   },
   {
    "duration": 0,
    "start_time": "2025-01-05T19:22:37.778Z"
   },
   {
    "duration": 0,
    "start_time": "2025-01-05T19:22:37.779Z"
   },
   {
    "duration": 0,
    "start_time": "2025-01-05T19:22:37.779Z"
   },
   {
    "duration": 0,
    "start_time": "2025-01-05T19:22:37.823Z"
   },
   {
    "duration": 0,
    "start_time": "2025-01-05T19:22:37.824Z"
   },
   {
    "duration": 0,
    "start_time": "2025-01-05T19:22:37.831Z"
   },
   {
    "duration": 0,
    "start_time": "2025-01-05T19:22:37.832Z"
   },
   {
    "duration": 0,
    "start_time": "2025-01-05T19:22:37.834Z"
   },
   {
    "duration": 0,
    "start_time": "2025-01-05T19:22:37.836Z"
   },
   {
    "duration": 0,
    "start_time": "2025-01-05T19:22:37.837Z"
   },
   {
    "duration": 0,
    "start_time": "2025-01-05T19:22:37.839Z"
   },
   {
    "duration": 0,
    "start_time": "2025-01-05T19:22:37.840Z"
   },
   {
    "duration": 0,
    "start_time": "2025-01-05T19:22:37.842Z"
   },
   {
    "duration": 0,
    "start_time": "2025-01-05T19:22:37.843Z"
   },
   {
    "duration": 0,
    "start_time": "2025-01-05T19:22:37.845Z"
   },
   {
    "duration": 0,
    "start_time": "2025-01-05T19:22:37.847Z"
   },
   {
    "duration": 0,
    "start_time": "2025-01-05T19:22:37.848Z"
   },
   {
    "duration": 0,
    "start_time": "2025-01-05T19:22:37.850Z"
   },
   {
    "duration": 0,
    "start_time": "2025-01-05T19:22:37.851Z"
   },
   {
    "duration": 0,
    "start_time": "2025-01-05T19:22:37.853Z"
   },
   {
    "duration": 0,
    "start_time": "2025-01-05T19:22:37.854Z"
   },
   {
    "duration": 0,
    "start_time": "2025-01-05T19:22:37.856Z"
   },
   {
    "duration": 0,
    "start_time": "2025-01-05T19:22:37.857Z"
   },
   {
    "duration": 0,
    "start_time": "2025-01-05T19:22:37.858Z"
   },
   {
    "duration": 0,
    "start_time": "2025-01-05T19:22:37.860Z"
   },
   {
    "duration": 0,
    "start_time": "2025-01-05T19:22:37.917Z"
   },
   {
    "duration": 0,
    "start_time": "2025-01-05T19:22:37.918Z"
   },
   {
    "duration": 0,
    "start_time": "2025-01-05T19:22:37.919Z"
   },
   {
    "duration": 0,
    "start_time": "2025-01-05T19:22:37.919Z"
   },
   {
    "duration": 0,
    "start_time": "2025-01-05T19:22:37.920Z"
   },
   {
    "duration": 0,
    "start_time": "2025-01-05T19:22:37.921Z"
   },
   {
    "duration": 0,
    "start_time": "2025-01-05T19:22:37.922Z"
   },
   {
    "duration": 3931,
    "start_time": "2025-01-05T19:23:22.849Z"
   },
   {
    "duration": 1570,
    "start_time": "2025-01-05T19:23:26.783Z"
   },
   {
    "duration": 190,
    "start_time": "2025-01-05T19:23:28.355Z"
   },
   {
    "duration": 17,
    "start_time": "2025-01-05T19:23:28.548Z"
   },
   {
    "duration": 15,
    "start_time": "2025-01-05T19:23:28.566Z"
   },
   {
    "duration": 17,
    "start_time": "2025-01-05T19:23:28.582Z"
   },
   {
    "duration": 22,
    "start_time": "2025-01-05T19:23:28.600Z"
   },
   {
    "duration": 12,
    "start_time": "2025-01-05T19:23:28.627Z"
   },
   {
    "duration": 14,
    "start_time": "2025-01-05T19:23:28.641Z"
   },
   {
    "duration": 27,
    "start_time": "2025-01-05T19:23:28.658Z"
   },
   {
    "duration": 28,
    "start_time": "2025-01-05T19:23:28.687Z"
   },
   {
    "duration": 8,
    "start_time": "2025-01-05T19:23:28.721Z"
   },
   {
    "duration": 13,
    "start_time": "2025-01-05T19:23:28.732Z"
   },
   {
    "duration": 15,
    "start_time": "2025-01-05T19:23:28.747Z"
   },
   {
    "duration": 39,
    "start_time": "2025-01-05T19:23:28.763Z"
   },
   {
    "duration": 40,
    "start_time": "2025-01-05T19:23:28.803Z"
   },
   {
    "duration": 7,
    "start_time": "2025-01-05T19:23:28.845Z"
   },
   {
    "duration": 12,
    "start_time": "2025-01-05T19:23:28.853Z"
   },
   {
    "duration": 18,
    "start_time": "2025-01-05T19:23:28.867Z"
   },
   {
    "duration": 10,
    "start_time": "2025-01-05T19:23:28.886Z"
   },
   {
    "duration": 25,
    "start_time": "2025-01-05T19:23:28.897Z"
   },
   {
    "duration": 17,
    "start_time": "2025-01-05T19:23:28.928Z"
   },
   {
    "duration": 6,
    "start_time": "2025-01-05T19:23:28.947Z"
   },
   {
    "duration": 6,
    "start_time": "2025-01-05T19:23:28.955Z"
   },
   {
    "duration": 15,
    "start_time": "2025-01-05T19:23:28.963Z"
   },
   {
    "duration": 41,
    "start_time": "2025-01-05T19:23:28.979Z"
   },
   {
    "duration": 10,
    "start_time": "2025-01-05T19:23:29.022Z"
   },
   {
    "duration": 224,
    "start_time": "2025-01-05T19:23:29.036Z"
   },
   {
    "duration": 8,
    "start_time": "2025-01-05T19:23:29.263Z"
   },
   {
    "duration": 295,
    "start_time": "2025-01-05T19:23:29.274Z"
   },
   {
    "duration": 7,
    "start_time": "2025-01-05T19:23:29.571Z"
   },
   {
    "duration": 9,
    "start_time": "2025-01-05T19:23:29.580Z"
   },
   {
    "duration": 181,
    "start_time": "2025-01-05T19:23:29.591Z"
   },
   {
    "duration": 304,
    "start_time": "2025-01-05T19:23:29.774Z"
   },
   {
    "duration": 12,
    "start_time": "2025-01-05T19:23:30.080Z"
   },
   {
    "duration": 269,
    "start_time": "2025-01-05T19:23:30.094Z"
   },
   {
    "duration": 132,
    "start_time": "2025-01-05T19:23:30.365Z"
   },
   {
    "duration": 21,
    "start_time": "2025-01-05T19:23:30.499Z"
   },
   {
    "duration": 369,
    "start_time": "2025-01-05T19:23:30.522Z"
   },
   {
    "duration": 149,
    "start_time": "2025-01-05T19:23:30.893Z"
   },
   {
    "duration": 227,
    "start_time": "2025-01-05T19:23:31.043Z"
   },
   {
    "duration": 284,
    "start_time": "2025-01-05T19:23:31.273Z"
   },
   {
    "duration": 8,
    "start_time": "2025-01-05T19:23:31.559Z"
   },
   {
    "duration": 14,
    "start_time": "2025-01-05T19:23:31.569Z"
   },
   {
    "duration": 67,
    "start_time": "2025-01-05T19:23:31.585Z"
   },
   {
    "duration": 224,
    "start_time": "2025-01-05T19:23:31.654Z"
   },
   {
    "duration": 16,
    "start_time": "2025-01-05T19:23:31.880Z"
   },
   {
    "duration": 239,
    "start_time": "2025-01-05T19:23:31.898Z"
   },
   {
    "duration": 3486,
    "start_time": "2025-01-06T15:06:44.515Z"
   },
   {
    "duration": 1361,
    "start_time": "2025-01-06T15:06:48.003Z"
   },
   {
    "duration": 198,
    "start_time": "2025-01-06T15:06:49.366Z"
   },
   {
    "duration": 17,
    "start_time": "2025-01-06T15:06:49.566Z"
   },
   {
    "duration": 14,
    "start_time": "2025-01-06T15:06:49.584Z"
   },
   {
    "duration": 9,
    "start_time": "2025-01-06T15:06:49.600Z"
   },
   {
    "duration": 20,
    "start_time": "2025-01-06T15:06:49.611Z"
   },
   {
    "duration": 12,
    "start_time": "2025-01-06T15:06:49.633Z"
   },
   {
    "duration": 17,
    "start_time": "2025-01-06T15:06:49.647Z"
   },
   {
    "duration": 57,
    "start_time": "2025-01-06T15:06:49.667Z"
   },
   {
    "duration": 61,
    "start_time": "2025-01-06T15:06:49.725Z"
   },
   {
    "duration": 8,
    "start_time": "2025-01-06T15:06:49.788Z"
   },
   {
    "duration": 8,
    "start_time": "2025-01-06T15:06:49.797Z"
   },
   {
    "duration": 16,
    "start_time": "2025-01-06T15:06:49.807Z"
   },
   {
    "duration": 13,
    "start_time": "2025-01-06T15:06:49.825Z"
   },
   {
    "duration": 11,
    "start_time": "2025-01-06T15:06:49.840Z"
   },
   {
    "duration": 12,
    "start_time": "2025-01-06T15:06:49.852Z"
   },
   {
    "duration": 10,
    "start_time": "2025-01-06T15:06:49.866Z"
   },
   {
    "duration": 18,
    "start_time": "2025-01-06T15:06:49.878Z"
   },
   {
    "duration": 32,
    "start_time": "2025-01-06T15:06:49.898Z"
   },
   {
    "duration": 9,
    "start_time": "2025-01-06T15:06:49.932Z"
   },
   {
    "duration": 36,
    "start_time": "2025-01-06T15:06:49.942Z"
   },
   {
    "duration": 115,
    "start_time": "2025-01-06T15:06:49.980Z"
   },
   {
    "duration": 18,
    "start_time": "2025-01-06T15:06:50.096Z"
   },
   {
    "duration": 37,
    "start_time": "2025-01-06T15:06:50.116Z"
   },
   {
    "duration": 19,
    "start_time": "2025-01-06T15:06:50.154Z"
   },
   {
    "duration": 7,
    "start_time": "2025-01-06T15:06:50.174Z"
   },
   {
    "duration": 189,
    "start_time": "2025-01-06T15:06:50.185Z"
   },
   {
    "duration": 8,
    "start_time": "2025-01-06T15:06:50.376Z"
   },
   {
    "duration": 225,
    "start_time": "2025-01-06T15:06:50.385Z"
   },
   {
    "duration": 18,
    "start_time": "2025-01-06T15:06:50.613Z"
   },
   {
    "duration": 194,
    "start_time": "2025-01-06T15:06:50.633Z"
   },
   {
    "duration": 7,
    "start_time": "2025-01-06T15:06:50.830Z"
   },
   {
    "duration": 11,
    "start_time": "2025-01-06T15:06:50.839Z"
   },
   {
    "duration": 162,
    "start_time": "2025-01-06T15:06:50.852Z"
   },
   {
    "duration": 293,
    "start_time": "2025-01-06T15:06:51.016Z"
   },
   {
    "duration": 22,
    "start_time": "2025-01-06T15:06:51.311Z"
   },
   {
    "duration": 258,
    "start_time": "2025-01-06T15:06:51.334Z"
   },
   {
    "duration": 11,
    "start_time": "2025-01-06T15:06:51.594Z"
   },
   {
    "duration": 243,
    "start_time": "2025-01-06T15:06:51.607Z"
   },
   {
    "duration": 222,
    "start_time": "2025-01-06T15:06:51.852Z"
   },
   {
    "duration": 7,
    "start_time": "2025-01-06T15:06:52.076Z"
   },
   {
    "duration": 231,
    "start_time": "2025-01-06T15:06:52.085Z"
   },
   {
    "duration": 13,
    "start_time": "2025-01-06T15:06:52.317Z"
   },
   {
    "duration": 265,
    "start_time": "2025-01-06T15:06:52.332Z"
   },
   {
    "duration": 135,
    "start_time": "2025-01-06T15:06:52.598Z"
   },
   {
    "duration": 8,
    "start_time": "2025-01-06T15:06:52.734Z"
   },
   {
    "duration": 216,
    "start_time": "2025-01-06T15:06:52.743Z"
   },
   {
    "duration": 205,
    "start_time": "2025-01-06T15:06:52.961Z"
   },
   {
    "duration": 229,
    "start_time": "2025-01-06T15:06:53.168Z"
   },
   {
    "duration": 7,
    "start_time": "2025-01-06T15:06:53.398Z"
   },
   {
    "duration": 28,
    "start_time": "2025-01-06T15:06:53.407Z"
   },
   {
    "duration": 24,
    "start_time": "2025-01-06T15:06:53.437Z"
   },
   {
    "duration": 211,
    "start_time": "2025-01-06T15:06:53.463Z"
   },
   {
    "duration": 12,
    "start_time": "2025-01-06T15:06:53.676Z"
   },
   {
    "duration": 11,
    "start_time": "2025-01-06T15:06:53.690Z"
   },
   {
    "duration": 47,
    "start_time": "2025-01-06T15:06:53.703Z"
   },
   {
    "duration": 16,
    "start_time": "2025-01-06T15:06:53.752Z"
   },
   {
    "duration": 379,
    "start_time": "2025-01-06T15:06:53.769Z"
   },
   {
    "duration": 2765,
    "start_time": "2025-01-06T17:23:07.687Z"
   },
   {
    "duration": 1584,
    "start_time": "2025-01-06T17:23:10.454Z"
   },
   {
    "duration": 228,
    "start_time": "2025-01-06T17:23:12.040Z"
   },
   {
    "duration": 14,
    "start_time": "2025-01-06T17:23:12.270Z"
   },
   {
    "duration": 26,
    "start_time": "2025-01-06T17:23:12.287Z"
   },
   {
    "duration": 27,
    "start_time": "2025-01-06T17:23:12.315Z"
   },
   {
    "duration": 21,
    "start_time": "2025-01-06T17:23:12.344Z"
   },
   {
    "duration": 20,
    "start_time": "2025-01-06T17:23:12.367Z"
   },
   {
    "duration": 33,
    "start_time": "2025-01-06T17:23:12.388Z"
   },
   {
    "duration": 26,
    "start_time": "2025-01-06T17:23:12.423Z"
   },
   {
    "duration": 15,
    "start_time": "2025-01-06T17:23:12.451Z"
   },
   {
    "duration": 20,
    "start_time": "2025-01-06T17:23:12.467Z"
   },
   {
    "duration": 15,
    "start_time": "2025-01-06T17:23:12.488Z"
   },
   {
    "duration": 24,
    "start_time": "2025-01-06T17:23:12.505Z"
   },
   {
    "duration": 20,
    "start_time": "2025-01-06T17:23:12.530Z"
   },
   {
    "duration": 10,
    "start_time": "2025-01-06T17:23:12.551Z"
   },
   {
    "duration": 20,
    "start_time": "2025-01-06T17:23:12.563Z"
   },
   {
    "duration": 21,
    "start_time": "2025-01-06T17:23:12.585Z"
   },
   {
    "duration": 20,
    "start_time": "2025-01-06T17:23:12.607Z"
   },
   {
    "duration": 32,
    "start_time": "2025-01-06T17:23:12.629Z"
   },
   {
    "duration": 17,
    "start_time": "2025-01-06T17:23:12.662Z"
   },
   {
    "duration": 22,
    "start_time": "2025-01-06T17:23:12.681Z"
   },
   {
    "duration": 7,
    "start_time": "2025-01-06T17:23:12.704Z"
   },
   {
    "duration": 139,
    "start_time": "2025-01-06T17:23:12.712Z"
   },
   {
    "duration": 10,
    "start_time": "2025-01-06T17:23:12.852Z"
   },
   {
    "duration": 20,
    "start_time": "2025-01-06T17:23:12.864Z"
   },
   {
    "duration": 7,
    "start_time": "2025-01-06T17:23:12.886Z"
   },
   {
    "duration": 188,
    "start_time": "2025-01-06T17:23:12.894Z"
   },
   {
    "duration": 8,
    "start_time": "2025-01-06T17:23:13.083Z"
   },
   {
    "duration": 227,
    "start_time": "2025-01-06T17:23:13.092Z"
   },
   {
    "duration": 14,
    "start_time": "2025-01-06T17:23:13.321Z"
   },
   {
    "duration": 196,
    "start_time": "2025-01-06T17:23:13.336Z"
   },
   {
    "duration": 7,
    "start_time": "2025-01-06T17:23:13.534Z"
   },
   {
    "duration": 8,
    "start_time": "2025-01-06T17:23:13.543Z"
   },
   {
    "duration": 173,
    "start_time": "2025-01-06T17:23:13.552Z"
   },
   {
    "duration": 294,
    "start_time": "2025-01-06T17:23:13.730Z"
   },
   {
    "duration": 15,
    "start_time": "2025-01-06T17:23:14.026Z"
   },
   {
    "duration": 263,
    "start_time": "2025-01-06T17:23:14.043Z"
   },
   {
    "duration": 25,
    "start_time": "2025-01-06T17:23:14.308Z"
   },
   {
    "duration": 231,
    "start_time": "2025-01-06T17:23:14.335Z"
   },
   {
    "duration": 219,
    "start_time": "2025-01-06T17:23:14.571Z"
   },
   {
    "duration": 8,
    "start_time": "2025-01-06T17:23:14.791Z"
   },
   {
    "duration": 237,
    "start_time": "2025-01-06T17:23:14.800Z"
   },
   {
    "duration": 11,
    "start_time": "2025-01-06T17:23:15.039Z"
   },
   {
    "duration": 279,
    "start_time": "2025-01-06T17:23:15.052Z"
   },
   {
    "duration": 135,
    "start_time": "2025-01-06T17:23:15.333Z"
   },
   {
    "duration": 7,
    "start_time": "2025-01-06T17:23:15.471Z"
   },
   {
    "duration": 178,
    "start_time": "2025-01-06T17:23:15.479Z"
   },
   {
    "duration": 196,
    "start_time": "2025-01-06T17:23:15.659Z"
   },
   {
    "duration": 286,
    "start_time": "2025-01-06T17:23:15.857Z"
   },
   {
    "duration": 7,
    "start_time": "2025-01-06T17:23:16.145Z"
   },
   {
    "duration": 9,
    "start_time": "2025-01-06T17:23:16.154Z"
   },
   {
    "duration": 79,
    "start_time": "2025-01-06T17:23:16.165Z"
   },
   {
    "duration": 420,
    "start_time": "2025-01-06T17:23:16.246Z"
   },
   {
    "duration": 62,
    "start_time": "2025-01-06T17:23:16.668Z"
   },
   {
    "duration": 11,
    "start_time": "2025-01-06T17:23:16.732Z"
   },
   {
    "duration": 128,
    "start_time": "2025-01-06T17:23:16.744Z"
   },
   {
    "duration": 58,
    "start_time": "2025-01-06T17:23:16.874Z"
   },
   {
    "duration": 398,
    "start_time": "2025-01-06T17:23:16.934Z"
   }
  ],
  "kernelspec": {
   "display_name": "Python 3 (ipykernel)",
   "language": "python",
   "name": "python3"
  },
  "language_info": {
   "codemirror_mode": {
    "name": "ipython",
    "version": 3
   },
   "file_extension": ".py",
   "mimetype": "text/x-python",
   "name": "python",
   "nbconvert_exporter": "python",
   "pygments_lexer": "ipython3",
   "version": "3.9.7"
  },
  "toc": {
   "base_numbering": 1,
   "nav_menu": {},
   "number_sections": true,
   "sideBar": true,
   "skip_h1_title": true,
   "title_cell": "Table of Contents",
   "title_sidebar": "Contents",
   "toc_cell": false,
   "toc_position": {
    "height": "calc(100% - 180px)",
    "left": "10px",
    "top": "150px",
    "width": "402.352936px"
   },
   "toc_section_display": true,
   "toc_window_display": true
  }
 },
 "nbformat": 4,
 "nbformat_minor": 5
}
